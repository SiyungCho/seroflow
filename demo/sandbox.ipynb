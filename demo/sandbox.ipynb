{
 "cells": [
  {
   "cell_type": "code",
   "execution_count": 1,
   "metadata": {},
   "outputs": [],
   "source": [
    "import sys\n",
    "sys.path.append('/Users/frankcho/Desktop/pypeline/src/')\n",
    "# sys.path.append('/home/siyung/Desktop/pypeline/src/')\n",
    "\n",
    "from pypeline.pypeline import pypeline as pypeline\n",
    "from pypeline.Step import step as step\n",
    "from pypeline.Extract import csv_extractor as csv_extractor\n",
    "from pypeline.Extract import excel_extractor as excel_extractor\n",
    "from pypeline.Load import csv_loader as csv_loader\n",
    "# from pypeline.Cache import LFUCache as LFUCache"
   ]
  },
  {
   "cell_type": "code",
   "execution_count": 2,
   "metadata": {},
   "outputs": [],
   "source": [
    "pypeline = pypeline()"
   ]
  },
  {
   "cell_type": "code",
   "execution_count": 3,
   "metadata": {},
   "outputs": [],
   "source": [
    "@step(params={'a': 2})\n",
    "def custom_step(context, a, b=1):\n",
    "    print(\"This is a custom step\")\n",
    "    # print(a)\n",
    "    print(b)\n",
    "    print(context.get_dataframe('tmp'))\n",
    "    return a, b"
   ]
  },
  {
   "cell_type": "code",
   "execution_count": 4,
   "metadata": {},
   "outputs": [],
   "source": [
    "# extractor = csv_extractor(source='/home/siyung/Desktop/pypeline/demo/tempdata/', index_col=False)\n",
    "# xl_extractor = excel_extractor(source='/home/siyung/Desktop/pypeline/demo/tempdata/')\n",
    "# loader = csv_loader(target='/home/siyung/Desktop/pypeline/demo/tempdata/export/', index=False)"
   ]
  },
  {
   "cell_type": "code",
   "execution_count": 5,
   "metadata": {},
   "outputs": [],
   "source": [
    "extractor = csv_extractor(source='/Users/frankcho/Desktop/pypeline/demo/tempdata/', index_col=False)\n",
    "xl_extractor = excel_extractor(source='/Users/frankcho/Desktop/pypeline/demo/tempdata/')\n",
    "loader = csv_loader(target='/Users/frankcho/Desktop/pypeline/demo/tempdata/export/', index=False)"
   ]
  },
  {
   "cell_type": "code",
   "execution_count": 6,
   "metadata": {},
   "outputs": [
    {
     "name": "stdout",
     "output_type": "stream",
     "text": [
      "Successfully added step with key: 0459307df850e5719043c7ebb4ebdf4a\n"
     ]
    }
   ],
   "source": [
    "# pypeline.target_extractor = extractor\n",
    "# pypeline.target_loader = loader\n",
    "pypeline.add_steps([custom_step])"
   ]
  },
  {
   "cell_type": "code",
   "execution_count": 7,
   "metadata": {},
   "outputs": [
    {
     "name": "stdout",
     "output_type": "stream",
     "text": [
      "Executing Step: custom_step\n",
      "This is a custom step\n",
      "1\n",
      "None\n"
     ]
    },
    {
     "ename": "KeyError",
     "evalue": "'steps'",
     "output_type": "error",
     "traceback": [
      "\u001b[31m---------------------------------------------------------------------------\u001b[39m",
      "\u001b[31mKeyError\u001b[39m                                  Traceback (most recent call last)",
      "\u001b[36mCell\u001b[39m\u001b[36m \u001b[39m\u001b[32mIn[7]\u001b[39m\u001b[32m, line 1\u001b[39m\n\u001b[32m----> \u001b[39m\u001b[32m1\u001b[39m \u001b[43mpypeline\u001b[49m\u001b[43m.\u001b[49m\u001b[43mexecute\u001b[49m\u001b[43m(\u001b[49m\u001b[43m)\u001b[49m\n",
      "\u001b[36mFile \u001b[39m\u001b[32m~/Desktop/pypeline/src/pypeline/pypeline.py:251\u001b[39m, in \u001b[36mpypeline.execute\u001b[39m\u001b[34m(self, on_fail)\u001b[39m\n\u001b[32m    249\u001b[39m     \u001b[38;5;28;01mif\u001b[39;00m step_output:\n\u001b[32m    250\u001b[39m         \u001b[38;5;28mself\u001b[39m.parse_step_output(step_output, step_key)\n\u001b[32m--> \u001b[39m\u001b[32m251\u001b[39m     \u001b[38;5;28;43mself\u001b[39;49m\u001b[43m.\u001b[49m\u001b[43mcache\u001b[49m\u001b[43m.\u001b[49m\u001b[43mstore\u001b[49m\u001b[43m(\u001b[49m\u001b[38;5;28;43mself\u001b[39;49m\u001b[43m,\u001b[49m\u001b[43m \u001b[49m\u001b[43mstep_key\u001b[49m\u001b[43m)\u001b[49m\n\u001b[32m    253\u001b[39m     \u001b[38;5;28mself\u001b[39m.logger.info(\u001b[33mf\u001b[39m\u001b[33m\"\u001b[39m\u001b[33mStep: \u001b[39m\u001b[38;5;132;01m{\u001b[39;00mstep_name\u001b[38;5;132;01m}\u001b[39;00m\u001b[33m completed...\u001b[39m\u001b[33m\"\u001b[39m)\n\u001b[32m    255\u001b[39m \u001b[38;5;28mself\u001b[39m.logger.info(\u001b[33m\"\u001b[39m\u001b[33mETL Execution Finished...\u001b[39m\u001b[33m\"\u001b[39m)\n",
      "\u001b[36mFile \u001b[39m\u001b[32m~/Desktop/pypeline/src/pypeline/Cache/LFUCache.py:104\u001b[39m, in \u001b[36mLFUCache.store\u001b[39m\u001b[34m(self, pypeline, step_key)\u001b[39m\n\u001b[32m    102\u001b[39m \u001b[38;5;28;01mwith\u001b[39;00m gzip.open(checkpoint_file, \u001b[33m'\u001b[39m\u001b[33mwb\u001b[39m\u001b[33m'\u001b[39m) \u001b[38;5;28;01mas\u001b[39;00m f:\n\u001b[32m    103\u001b[39m     dill.dump(pypeline, f)\n\u001b[32m--> \u001b[39m\u001b[32m104\u001b[39m \u001b[38;5;28;43mself\u001b[39;49m\u001b[43m.\u001b[49m\u001b[43mupdate_config\u001b[49m\u001b[43m(\u001b[49m\u001b[43mpypeline\u001b[49m\u001b[43m.\u001b[49m\u001b[43mstep_index\u001b[49m\u001b[43m[\u001b[49m\u001b[43mstep_key\u001b[49m\u001b[43m]\u001b[49m\u001b[43m.\u001b[49m\u001b[43mstep_func\u001b[49m\u001b[43m,\u001b[49m\u001b[43m \u001b[49m\u001b[43mstep_key\u001b[49m\u001b[43m)\u001b[49m\n",
      "\u001b[36mFile \u001b[39m\u001b[32m~/Desktop/pypeline/src/pypeline/Cache/LFUCache.py:93\u001b[39m, in \u001b[36mLFUCache.update_config\u001b[39m\u001b[34m(self, step_func, step_key)\u001b[39m\n\u001b[32m     90\u001b[39m conf[\u001b[33m'\u001b[39m\u001b[33mlast_completed_step\u001b[39m\u001b[33m'\u001b[39m] = step_key\n\u001b[32m     92\u001b[39m source_code, hash_code = get_function_hash(step_func)\n\u001b[32m---> \u001b[39m\u001b[32m93\u001b[39m \u001b[43mconf\u001b[49m\u001b[43m[\u001b[49m\u001b[33;43m'\u001b[39;49m\u001b[33;43msteps\u001b[39;49m\u001b[33;43m'\u001b[39;49m\u001b[43m]\u001b[49m[step_key] = {\n\u001b[32m     94\u001b[39m     \u001b[33m\"\u001b[39m\u001b[33msource_code\u001b[39m\u001b[33m\"\u001b[39m: source_code,\n\u001b[32m     95\u001b[39m     \u001b[33m\"\u001b[39m\u001b[33mfunc_hash\u001b[39m\u001b[33m\"\u001b[39m: hash_code\n\u001b[32m     96\u001b[39m }\n\u001b[32m     97\u001b[39m \u001b[38;5;28mself\u001b[39m.write_config(conf)\n\u001b[32m     98\u001b[39m \u001b[38;5;28;01mreturn\u001b[39;00m\n",
      "\u001b[31mKeyError\u001b[39m: 'steps'"
     ]
    }
   ],
   "source": [
    "pypeline.execute()"
   ]
  }
 ],
 "metadata": {
  "kernelspec": {
   "display_name": ".venv",
   "language": "python",
   "name": "python3"
  },
  "language_info": {
   "codemirror_mode": {
    "name": "ipython",
    "version": 3
   },
   "file_extension": ".py",
   "mimetype": "text/x-python",
   "name": "python",
   "nbconvert_exporter": "python",
   "pygments_lexer": "ipython3",
   "version": "3.12.3"
  }
 },
 "nbformat": 4,
 "nbformat_minor": 2
}
