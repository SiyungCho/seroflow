{
 "cells": [
  {
   "cell_type": "code",
   "execution_count": 1,
   "metadata": {},
   "outputs": [],
   "source": [
    "import sys\n",
    "sys.path.append('/Users/frankcho/Desktop/pypeline/src/')\n",
    "# sys.path.append('/home/siyung/Desktop/pypeline/src/')\n",
    "\n",
    "from pypeline.pypeline import Pypeline\n",
    "from pypeline.step import Step\n",
    "\n",
    "from pypeline.extract import CSVExtractor\n",
    "from pypeline.extract import ExcelExtractor\n",
    "from pypeline.extract import MultiCSVExtractor\n",
    "from pypeline.extract import MultiExcelExtractor\n",
    "\n",
    "from pypeline.load import CSVLoader\n",
    "from pypeline.load import ExcelLoader\n",
    "from pypeline.load import MultiCSVLoader\n",
    "from pypeline.load import MultiExcelLoader\n",
    "\n",
    "from pypeline.chunker import DirectChunker\n",
    "from pypeline.chunker import RecursiveChunker\n",
    "\n",
    "# from pypeline.engine import SQLAlchemyEngine\n",
    "# from pypeline.engine import PyodbcEngine"
   ]
  },
  {
   "cell_type": "code",
   "execution_count": 2,
   "metadata": {},
   "outputs": [],
   "source": [
    "pypeline = Pypeline()"
   ]
  },
  {
   "cell_type": "code",
   "execution_count": 3,
   "metadata": {},
   "outputs": [],
   "source": [
    "@Step(params={'a': 2})\n",
    "def print_df_step(context, a, b=1):\n",
    "    print(\"This is a custom step1\")\n",
    "    print(context.get_dataframe('tmp'))\n",
    "    return a, b\n",
    "\n",
    "@Step()\n",
    "def print_df_step2(context):\n",
    "    print(\"This is a custom step1\")\n",
    "    print(context.get_dataframe('tmpBook'))\n"
   ]
  },
  {
   "cell_type": "code",
   "execution_count": 4,
   "metadata": {},
   "outputs": [],
   "source": [
    "# csv_extractor = CSVExtractor(source='/home/siyung/Desktop/pypeline/demo/tempdata/tmp.csv', chunk_size=4, index_col=False, header=None)\n",
    "# multi_csv_extractor = MultiCSVExtractor(source='/home/siyung/Desktop/pypeline/demo/tempdata/', chunk_size=1, index_col=False, header=None)\n",
    "\n",
    "# excel_extractor = ExcelExtractor(source='/home/siyung/Desktop/pypeline/demo/tempdata/tmpBook.xlsx', chunk_size=4, index_col=False, header=None)\n",
    "# multi_excel_extractor = MultiExcelExtractor(source='/home/siyung/Desktop/pypeline/demo/tempdata/', chunk_size=1, index_col=False, header=None)\n",
    "\n",
    "# csv_loader = CSVLoader(target='/home/siyung/Desktop/pypeline/demo/tempdata/export/', index=False, header=False)\n",
    "# multi_csv_loader = MultiCSVLoader()\n",
    "\n",
    "# excel_loader = ExcelLoader(target='/home/siyung/Desktop/pypeline/demo/tempdata/export/', index=False, header=False)\n",
    "# multi_excel_loader = MultiExcelLoader()"
   ]
  },
  {
   "cell_type": "code",
   "execution_count": 5,
   "metadata": {},
   "outputs": [],
   "source": [
    "# csv_extractor = CSVExtractor(source='/Users/frankcho/Desktop/pypeline/demo/tempdata/tmp.csv', chunk_size=4, index_col=False, header=None)\n",
    "multi_csv_extractor = MultiCSVExtractor(source='/Users/frankcho/Desktop/pypeline/demo/tempdata/', chunk_size=1, index_col=False, header=None)\n",
    "\n",
    "# excel_extractor = ExcelExtractor(source='/Users/frankcho/Desktop/pypeline/demo/tempdata/tmpBook.xlsx', chunk_size=4, index_col=False, header=None)\n",
    "# multi_excel_extractor = MultiExcelExtractor(source='/Users/frankcho/Desktop/pypeline/demo/tempdata/', chunk_size=1, index_col=False, header=None)\n",
    "\n",
    "# csv_loader = CSVLoader(target='/Users/frankcho/Desktop/pypeline/demo/tempdata/export/', dataframe='tmpBook', index=False, header=False)\n",
    "# multi_csv_loader = MultiCSVLoader(target='/Users/frankcho/Desktop/pypeline/demo/tempdata/export/', index=False, header=False)\n",
    "\n",
    "# excel_loader = ExcelLoader(target='/Users/frankcho/Desktop/pypeline/demo/tempdata/export/', dataframe='tmp', index=False, header=False)\n",
    "multi_excel_loader = MultiExcelLoader(target='/Users/frankcho/Desktop/pypeline/demo/tempdata/export/', index=False, header=False)"
   ]
  },
  {
   "cell_type": "code",
   "execution_count": 6,
   "metadata": {},
   "outputs": [],
   "source": [
    "# # cache_state = pypeline.cache_state()\n",
    "# # reload_state = pypeline.reload_cached_state(cache_key=0)"
   ]
  },
  {
   "cell_type": "code",
   "execution_count": 7,
   "metadata": {},
   "outputs": [],
   "source": [
    "# pypeline.target_extractor = csv_extractor\n",
    "pypeline.target_extractor = multi_csv_extractor\n",
    "\n",
    "pypeline.target_loader = multi_excel_loader\n",
    "# pypeline.add_steps([extractor2])\n",
    "# pypeline.add_steps([print_df_step, cache_state, diverge_step1, print_df_step, loader, extractor2, reload_state, diverge_step2, print_df_step])"
   ]
  },
  {
   "cell_type": "code",
   "execution_count": 8,
   "metadata": {},
   "outputs": [
    {
     "name": "stdout",
     "output_type": "stream",
     "text": [
      "Successfully added step with key: 303c02b1d9dc0c0c316fca773bdcf9b6\n",
      "No valid checkpoint found, starting from the beginning...\n"
     ]
    },
    {
     "name": "stderr",
     "output_type": "stream",
     "text": [
      "Executing Pypeline: 100%|██████████| 4/4 [00:00<00:00, 55.67it/s]\n"
     ]
    },
    {
     "name": "stdout",
     "output_type": "stream",
     "text": [
      "Executing Step: CSVExtractor\n",
      "Executing Step: CSVExtractor\n",
      "Executing Step: MultiExcelLoader\n",
      "Executing Step: reset_cache\n",
      "No valid checkpoint found, starting from the beginning...\n"
     ]
    },
    {
     "name": "stderr",
     "output_type": "stream",
     "text": [
      "Executing Pypeline: 100%|██████████| 4/4 [00:00<00:00, 361.05it/s]\n"
     ]
    },
    {
     "name": "stdout",
     "output_type": "stream",
     "text": [
      "Executing Step: CSVExtractor\n",
      "Executing Step: CSVExtractor\n",
      "Executing Step: MultiExcelLoader\n",
      "Executing Step: reset_cache\n",
      "No valid checkpoint found, starting from the beginning...\n"
     ]
    },
    {
     "name": "stderr",
     "output_type": "stream",
     "text": [
      "Executing Pypeline: 100%|██████████| 4/4 [00:00<00:00, 347.76it/s]\n"
     ]
    },
    {
     "name": "stdout",
     "output_type": "stream",
     "text": [
      "Executing Step: CSVExtractor\n",
      "Executing Step: CSVExtractor\n",
      "Executing Step: MultiExcelLoader\n",
      "Executing Step: reset_cache\n",
      "No valid checkpoint found, starting from the beginning...\n"
     ]
    },
    {
     "name": "stderr",
     "output_type": "stream",
     "text": [
      "Executing Pypeline: 100%|██████████| 4/4 [00:00<00:00, 375.37it/s]\n"
     ]
    },
    {
     "name": "stdout",
     "output_type": "stream",
     "text": [
      "Executing Step: CSVExtractor\n",
      "Executing Step: CSVExtractor\n",
      "Executing Step: MultiExcelLoader\n",
      "Executing Step: reset_cache\n",
      "No valid checkpoint found, starting from the beginning...\n"
     ]
    },
    {
     "name": "stderr",
     "output_type": "stream",
     "text": [
      "Executing Pypeline: 100%|██████████| 4/4 [00:00<00:00, 382.12it/s]\n"
     ]
    },
    {
     "name": "stdout",
     "output_type": "stream",
     "text": [
      "Executing Step: CSVExtractor\n",
      "Executing Step: CSVExtractor\n",
      "Executing Step: MultiExcelLoader\n",
      "Executing Step: reset_cache\n",
      "No valid checkpoint found, starting from the beginning...\n"
     ]
    },
    {
     "name": "stderr",
     "output_type": "stream",
     "text": [
      "Executing Pypeline: 100%|██████████| 4/4 [00:00<00:00, 83.30it/s]\n"
     ]
    },
    {
     "name": "stdout",
     "output_type": "stream",
     "text": [
      "Executing Step: CSVExtractor\n",
      "Executing Step: CSVExtractor\n",
      "Executing Step: MultiExcelLoader\n",
      "Executing Step: reset_cache\n",
      "No valid checkpoint found, starting from the beginning...\n"
     ]
    },
    {
     "name": "stderr",
     "output_type": "stream",
     "text": [
      "Executing Pypeline: 100%|██████████| 4/4 [00:00<00:00, 337.63it/s]"
     ]
    },
    {
     "name": "stdout",
     "output_type": "stream",
     "text": [
      "Executing Step: CSVExtractor\n",
      "Executing Step: CSVExtractor\n",
      "Executing Step: MultiExcelLoader\n",
      "Executing Step: reset_cache\n"
     ]
    },
    {
     "name": "stderr",
     "output_type": "stream",
     "text": [
      "\n"
     ]
    }
   ],
   "source": [
    "pypeline.execute(chunker=RecursiveChunker)"
   ]
  }
 ],
 "metadata": {
  "kernelspec": {
   "display_name": ".venv",
   "language": "python",
   "name": "python3"
  },
  "language_info": {
   "codemirror_mode": {
    "name": "ipython",
    "version": 3
   },
   "file_extension": ".py",
   "mimetype": "text/x-python",
   "name": "python",
   "nbconvert_exporter": "python",
   "pygments_lexer": "ipython3",
   "version": "3.12.5"
  }
 },
 "nbformat": 4,
 "nbformat_minor": 2
}
