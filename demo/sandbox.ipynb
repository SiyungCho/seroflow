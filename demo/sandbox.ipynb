{
 "cells": [
  {
   "cell_type": "code",
   "execution_count": 1,
   "metadata": {},
   "outputs": [],
   "source": [
    "import sys\n",
    "# sys.path.append('/Users/frankcho/Desktop/pypeline/src/')\n",
    "sys.path.append('/home/siyung/Desktop/pypeline/src/')\n",
    "\n",
    "from pypeline.pypeline import Pypeline\n",
    "from pypeline.step import Step\n",
    "\n",
    "from pypeline.extract import CSVExtractor\n",
    "from pypeline.extract import ExcelExtractor\n",
    "from pypeline.extract import SQLServerExtractor\n",
    "from pypeline.extract import MultiCSVExtractor\n",
    "\n",
    "from pypeline.load import CSVLoader\n",
    "from pypeline.load import ExcelLoader\n",
    "from pypeline.load import SQLServerLoader\n",
    "\n",
    "from pypeline.chunker import DirectChunker\n",
    "from pypeline.chunker import RecursiveChunker\n",
    "\n",
    "# from pypeline.engine import SQLAlchemyEngine\n",
    "# from pypeline.engine import PyodbcEngine"
   ]
  },
  {
   "cell_type": "code",
   "execution_count": 2,
   "metadata": {},
   "outputs": [],
   "source": [
    "pypeline = Pypeline()"
   ]
  },
  {
   "cell_type": "code",
   "execution_count": 3,
   "metadata": {},
   "outputs": [],
   "source": [
    "@Step(params={'a': 2})\n",
    "def print_df_step(context, a, b=1):\n",
    "    print(\"This is a custom step1\")\n",
    "    print(context.get_dataframe('tmp'))\n",
    "    return a, b\n",
    "\n",
    "@Step()\n",
    "def print_df_step2(context):\n",
    "    print(\"This is a custom step1\")\n",
    "    print(context.get_dataframe('tmpBook'))\n"
   ]
  },
  {
   "cell_type": "code",
   "execution_count": 4,
   "metadata": {},
   "outputs": [],
   "source": [
    "extractor = CSVExtractor(source='/home/siyung/Desktop/pypeline/demo/tempdata/tmp.csv', chunk_size=4, index_col=False, header=None)\n",
    "extractor2 = CSVExtractor(source='/home/siyung/Desktop/pypeline/demo/tempdata/othertmp.csv', chunk_size=1, index_col=False, header=None)\n",
    "\n",
    "# multi_csv_extractor = MultiCSVExtractor(source='/home/siyung/Desktop/pypeline/demo/tempdata/', chunk_size=1, index_col=False, header=None)\n",
    "loader = CSVLoader(target='/home/siyung/Desktop/pypeline/demo/tempdata/export/', index=False, header=False)"
   ]
  },
  {
   "cell_type": "code",
   "execution_count": 5,
   "metadata": {},
   "outputs": [],
   "source": [
    "# extractor = CSVExtractor(source='/Users/frankcho/Desktop/pypeline/demo/tempdata/tmp.csv', chunk_size=1, index_col=False, header=None)\n",
    "# extractor2 = CSVExtractor(source='/Users/frankcho/Desktop/pypeline/demo/tempdata/othertmp.csv', chunk_size=2, index_col=False, header=None)\n",
    "# # extractor_test = GroupCSVExtractor(source='/Users/frankcho/Desktop/pypeline/demo/tempdata/', chunk_size=1, index_col=False, header=None)\n",
    "# # extractor2 = CSVExtractor(source='/Users/frankcho/Desktop/pypeline/demo/tempdata/export', index_col=False)\n",
    "\n",
    "# xl_extractor = ExcelExtractor(source='/Users/frankcho/Desktop/pypeline/demo/tempdata/', chunk_size=2, header=None)\n",
    "# loader = CSVLoader(target='/Users/frankcho/Desktop/pypeline/demo/tempdata/export/', index=False, header=False)\n",
    "# # loader2 = CSVLoader(target='/Users/frankcho/Desktop/pypeline/demo/tempdata/export/secondexport', index=False)\n",
    "\n",
    "# # cache_state = pypeline.cache_state()\n",
    "# # reload_state = pypeline.reload_cached_state(cache_key=0)"
   ]
  },
  {
   "cell_type": "code",
   "execution_count": 6,
   "metadata": {},
   "outputs": [
    {
     "name": "stdout",
     "output_type": "stream",
     "text": [
      "Successfully added step with key: 412abfdcd44b2d96741df91f5a116e5d\n"
     ]
    }
   ],
   "source": [
    "pypeline.target_extractor = extractor\n",
    "pypeline.target_loader = loader\n",
    "pypeline.add_steps([extractor2])\n",
    "# pypeline.add_steps([print_df_step, cache_state, diverge_step1, print_df_step, loader, extractor2, reload_state, diverge_step2, print_df_step])"
   ]
  },
  {
   "cell_type": "code",
   "execution_count": 7,
   "metadata": {},
   "outputs": [
    {
     "name": "stdout",
     "output_type": "stream",
     "text": [
      "Successfully added step with key: 303c02b1d9dc0c0c316fca773bdcf9b6\n",
      "total_chunks: 14\n",
      "Coordinate queue:\n",
      "Coordinate Queue (Total items: 14):\n",
      "  1: (0, 1)\n",
      "  2: (0, 1)\n",
      "  3: (1, 2)\n",
      "  4: (1, 2)\n",
      "  5: (2, 3)\n",
      "  6: (2, 3)\n",
      "  7: (3, 4)\n",
      "  8: (3, 4)\n",
      "  9: (4, 5)\n",
      "  10: (4, 5)\n",
      "  11: (5, 6)\n",
      "  12: (5, 6)\n",
      "  13: (6, 7)\n",
      "  14: (6, 7)\n",
      "\n",
      "\n",
      "No valid checkpoint found, starting from the beginning...\n"
     ]
    },
    {
     "name": "stderr",
     "output_type": "stream",
     "text": [
      "Executing Pypeline: 100%|██████████| 4/4 [00:00<00:00, 617.85it/s]\n"
     ]
    },
    {
     "name": "stdout",
     "output_type": "stream",
     "text": [
      "Executing Step: CSVExtractor\n",
      "Executing Step: CSVExtractor\n",
      "Executing Step: CSVLoader\n",
      "Executing Step: reset_cache\n",
      "No valid checkpoint found, starting from the beginning...\n"
     ]
    },
    {
     "name": "stderr",
     "output_type": "stream",
     "text": [
      "Executing Pypeline: 100%|██████████| 4/4 [00:00<00:00, 668.31it/s]\n"
     ]
    },
    {
     "name": "stdout",
     "output_type": "stream",
     "text": [
      "Executing Step: CSVExtractor\n",
      "Executing Step: CSVExtractor\n",
      "Executing Step: CSVLoader\n",
      "Executing Step: reset_cache\n",
      "No valid checkpoint found, starting from the beginning...\n"
     ]
    },
    {
     "name": "stderr",
     "output_type": "stream",
     "text": [
      "Executing Pypeline: 100%|██████████| 4/4 [00:00<00:00, 759.39it/s]\n"
     ]
    },
    {
     "name": "stdout",
     "output_type": "stream",
     "text": [
      "Executing Step: CSVExtractor\n",
      "Executing Step: CSVExtractor\n",
      "Executing Step: CSVLoader\n",
      "Executing Step: reset_cache\n",
      "No valid checkpoint found, starting from the beginning...\n"
     ]
    },
    {
     "name": "stderr",
     "output_type": "stream",
     "text": [
      "Executing Pypeline: 100%|██████████| 4/4 [00:00<00:00, 533.29it/s]\n"
     ]
    },
    {
     "name": "stdout",
     "output_type": "stream",
     "text": [
      "Executing Step: CSVExtractor\n",
      "Executing Step: CSVExtractor\n",
      "Executing Step: CSVLoader\n",
      "Executing Step: reset_cache\n",
      "No valid checkpoint found, starting from the beginning...\n"
     ]
    },
    {
     "name": "stderr",
     "output_type": "stream",
     "text": [
      "Executing Pypeline: 100%|██████████| 4/4 [00:00<00:00, 926.87it/s]\n"
     ]
    },
    {
     "name": "stdout",
     "output_type": "stream",
     "text": [
      "Executing Step: CSVExtractor\n",
      "Executing Step: CSVExtractor\n",
      "Executing Step: CSVLoader\n",
      "Executing Step: reset_cache\n",
      "No valid checkpoint found, starting from the beginning...\n"
     ]
    },
    {
     "name": "stderr",
     "output_type": "stream",
     "text": [
      "Executing Pypeline: 100%|██████████| 4/4 [00:00<00:00, 934.20it/s]\n"
     ]
    },
    {
     "name": "stdout",
     "output_type": "stream",
     "text": [
      "Executing Step: CSVExtractor\n",
      "Executing Step: CSVExtractor\n",
      "Executing Step: CSVLoader\n",
      "Executing Step: reset_cache\n",
      "No valid checkpoint found, starting from the beginning...\n"
     ]
    },
    {
     "name": "stderr",
     "output_type": "stream",
     "text": [
      "Executing Pypeline: 100%|██████████| 4/4 [00:00<00:00, 1047.46it/s]"
     ]
    },
    {
     "name": "stdout",
     "output_type": "stream",
     "text": [
      "Executing Step: CSVExtractor\n",
      "Executing Step: CSVExtractor\n",
      "Executing Step: CSVLoader\n",
      "Executing Step: reset_cache\n"
     ]
    },
    {
     "name": "stderr",
     "output_type": "stream",
     "text": [
      "\n"
     ]
    }
   ],
   "source": [
    "pypeline.execute(chunker=RecursiveChunker)"
   ]
  }
 ],
 "metadata": {
  "kernelspec": {
   "display_name": ".venv",
   "language": "python",
   "name": "python3"
  },
  "language_info": {
   "codemirror_mode": {
    "name": "ipython",
    "version": 3
   },
   "file_extension": ".py",
   "mimetype": "text/x-python",
   "name": "python",
   "nbconvert_exporter": "python",
   "pygments_lexer": "ipython3",
   "version": "3.12.3"
  }
 },
 "nbformat": 4,
 "nbformat_minor": 2
}
