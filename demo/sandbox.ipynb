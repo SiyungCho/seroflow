{
 "cells": [
  {
   "cell_type": "code",
   "execution_count": 1,
   "metadata": {},
   "outputs": [],
   "source": [
    "import sys\n",
    "# sys.path.append('/Users/frankcho/Desktop/pypeline/src/')\n",
    "sys.path.append('/home/siyung/Desktop/pypeline/src/')\n",
    "\n",
    "from pypeline.pypeline import pypeline as pypeline\n",
    "from pypeline.Step import step as step\n",
    "from pypeline.Extract import csv_extractor as csv_extractor\n",
    "# from pypeline.Extract import excel_extractor as excel_extractor\n",
    "from pypeline.Load import csv_loader as csv_loader\n",
    "# from pypeline.Cache import LFUCache as LFUCache"
   ]
  },
  {
   "cell_type": "code",
   "execution_count": 2,
   "metadata": {},
   "outputs": [],
   "source": [
    "pypeline = pypeline()"
   ]
  },
  {
   "cell_type": "code",
   "execution_count": null,
   "metadata": {},
   "outputs": [],
   "source": [
    "@step(params={'a': 2})\n",
    "def custom_stepss(context, a, b=1):\n",
    "    print(\"This is a custom step\")\n",
    "    # print(a)\n",
    "    print(b)\n",
    "    print(context.get_dataframe('tmp'))\n",
    "    return a, b"
   ]
  },
  {
   "cell_type": "code",
   "execution_count": 4,
   "metadata": {},
   "outputs": [],
   "source": [
    "extractor = csv_extractor(source='/home/siyung/Desktop/pypeline/demo/tempdata/', index_col=False)\n",
    "# xl_extractor = excel_extractor(source='/Users/frankcho/Desktop/pypeline/demo/tempdata/')\n",
    "loader = csv_loader(target='/home/siyung/Desktop/pypeline/demo/tempdata/export/', index=False)"
   ]
  },
  {
   "cell_type": "code",
   "execution_count": null,
   "metadata": {},
   "outputs": [
    {
     "name": "stdout",
     "output_type": "stream",
     "text": [
      "Successfully added step with key: 0459307df850e5719043c7ebb4ebdf4a\n"
     ]
    }
   ],
   "source": [
    "pypeline.target_extractor = extractor\n",
    "# pypeline.target_loader = loader\n",
    "pypeline.add_steps([custom_stepss])"
   ]
  },
  {
   "cell_type": "code",
   "execution_count": 6,
   "metadata": {},
   "outputs": [
    {
     "name": "stdout",
     "output_type": "stream",
     "text": [
      "0459307df850e5719043c7ebb4ebdf4a\n",
      "Executing Step: csv_extractor\n",
      "Executing Step: custom_step\n",
      "This is a custom step\n",
      "1\n",
      "   1  10  a  aa   true\n",
      "0  2  20  b  bb  False\n",
      "1  3  30  c  cc   True\n",
      "2  4  40  d  dd  False\n",
      "3  5  50  e  ee   True\n",
      "4  6  60  f  ff  False\n",
      "5  7  70  g  gg   True\n"
     ]
    }
   ],
   "source": [
    "pypeline.execute()"
   ]
  }
 ],
 "metadata": {
  "kernelspec": {
   "display_name": ".venv",
   "language": "python",
   "name": "python3"
  },
  "language_info": {
   "codemirror_mode": {
    "name": "ipython",
    "version": 3
   },
   "file_extension": ".py",
   "mimetype": "text/x-python",
   "name": "python",
   "nbconvert_exporter": "python",
   "pygments_lexer": "ipython3",
   "version": "3.12.3"
  }
 },
 "nbformat": 4,
 "nbformat_minor": 2
}
