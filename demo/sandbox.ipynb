{
 "cells": [
  {
   "cell_type": "code",
   "execution_count": 1,
   "metadata": {},
   "outputs": [],
   "source": [
    "import sys\n",
    "sys.path.append('/Users/frankcho/Desktop/pypeline/src/')\n",
    "# sys.path.append('/home/siyung/Desktop/pypeline/src/')\n",
    "\n",
    "from pypeline.pypeline import Pypeline\n",
    "from pypeline.step import Step\n",
    "\n",
    "from pypeline.extract import CSVExtractor\n",
    "from pypeline.extract import ExcelExtractor\n",
    "from pypeline.extract import MultiCSVExtractor\n",
    "from pypeline.extract import MultiExcelExtractor\n",
    "\n",
    "from pypeline.load import CSVLoader\n",
    "from pypeline.load import ExcelLoader\n",
    "from pypeline.load import MultiCSVLoader\n",
    "from pypeline.load import MultiExcelLoader\n",
    "\n",
    "from pypeline.chunker import DirectChunker\n",
    "from pypeline.chunker import RecursiveChunker\n",
    "\n",
    "from pypeline.transform import UpdateVariable\n",
    "from pypeline.transform import CreateVariable\n",
    "\n",
    "# from pypeline.engine import SQLAlchemyEngine\n",
    "# from pypeline.engine import PyodbcEngine"
   ]
  },
  {
   "cell_type": "code",
   "execution_count": 2,
   "metadata": {},
   "outputs": [],
   "source": [
    "pypeline = Pypeline()"
   ]
  },
  {
   "cell_type": "code",
   "execution_count": 3,
   "metadata": {},
   "outputs": [],
   "source": [
    "@Step()\n",
    "def print_df_step(context, a=1, b=1):\n",
    "    print(\"This is a custom step1\")\n",
    "    print(context.get_dataframe('tmp'))\n",
    "    print(a)\n",
    "    return a, b\n",
    "\n",
    "@Step()\n",
    "def print_df_step2(context):\n",
    "    print(\"This is a custom step1\")\n",
    "    print(context.get_dataframe('tmpBook'))\n"
   ]
  },
  {
   "cell_type": "code",
   "execution_count": 4,
   "metadata": {},
   "outputs": [],
   "source": [
    "# csv_extractor = CSVExtractor(source='/home/siyung/Desktop/pypeline/demo/tempdata/tmp.csv', chunk_size=4, index_col=False, header=None)\n",
    "# multi_csv_extractor = MultiCSVExtractor(source='/home/siyung/Desktop/pypeline/demo/tempdata/', chunk_size=1, index_col=False, header=None)\n",
    "\n",
    "# excel_extractor = ExcelExtractor(source='/home/siyung/Desktop/pypeline/demo/tempdata/tmpBook.xlsx', chunk_size=4, index_col=False, header=None)\n",
    "# multi_excel_extractor = MultiExcelExtractor(source='/home/siyung/Desktop/pypeline/demo/tempdata/', chunk_size=1, index_col=False, header=None)\n",
    "\n",
    "# csv_loader = CSVLoader(target='/home/siyung/Desktop/pypeline/demo/tempdata/export/', index=False, header=False)\n",
    "# multi_csv_loader = MultiCSVLoader()\n",
    "\n",
    "# excel_loader = ExcelLoader(target='/home/siyung/Desktop/pypeline/demo/tempdata/export/', index=False, header=False)\n",
    "# multi_excel_loader = MultiExcelLoader()"
   ]
  },
  {
   "cell_type": "code",
   "execution_count": 5,
   "metadata": {},
   "outputs": [],
   "source": [
    "csv_extractor = CSVExtractor(source='/Users/frankcho/Desktop/pypeline/demo/tempdata/tmp.csv', chunk_size=4, index_col=False, header=None)\n",
    "# multi_csv_extractor = MultiCSVExtractor(source='/Users/frankcho/Desktop/pypeline/demo/tempdata/', chunk_size=1, index_col=False, header=None)\n",
    "\n",
    "# excel_extractor = ExcelExtractor(source='/Users/frankcho/Desktop/pypeline/demo/tempdata/tmpBook.xlsx', chunk_size=4, index_col=False, header=None)\n",
    "# multi_excel_extractor = MultiExcelExtractor(source='/Users/frankcho/Desktop/pypeline/demo/tempdata/', chunk_size=1, index_col=False, header=None)\n",
    "\n",
    "csv_loader = CSVLoader(target='/Users/frankcho/Desktop/pypeline/demo/tempdata/export/', dataframe='tmp', index=False, header=False)\n",
    "# multi_csv_loader = MultiCSVLoader(target='/Users/frankcho/Desktop/pypeline/demo/tempdata/export/', index=False, header=False)\n",
    "\n",
    "# excel_loader = ExcelLoader(target='/Users/frankcho/Desktop/pypeline/demo/tempdata/export/', dataframe='tmp', index=False, header=False)\n",
    "# multi_excel_loader = MultiExcelLoader(target='/Users/frankcho/Desktop/pypeline/demo/tempdata/export/', index=False, header=False)"
   ]
  },
  {
   "cell_type": "code",
   "execution_count": null,
   "metadata": {},
   "outputs": [],
   "source": [
    "# transpose_df = TransposeDataFrame(dataframes='tmp')\n",
    "var_create = CreateVariable(var_name='test_var', value=50)\n",
    "var_update = UpdateVariable(var_name='test_var', new_value=100)"
   ]
  },
  {
   "cell_type": "code",
   "execution_count": 7,
   "metadata": {},
   "outputs": [],
   "source": [
    "# # cache_state = pypeline.cache_state()\n",
    "# # reload_state = pypeline.reload_cached_state(cache_key=0)"
   ]
  },
  {
   "cell_type": "code",
   "execution_count": 8,
   "metadata": {},
   "outputs": [
    {
     "name": "stdout",
     "output_type": "stream",
     "text": [
      "Successfully added step with key: 32d19eb47ab401990ab22f7a7131e175\n",
      "Successfully added step with key: f5809fe043c6f2ca419783197caeaa26\n"
     ]
    }
   ],
   "source": [
    "# pypeline.target_extractor = csv_extractor\n",
    "pypeline.target_extractor = csv_extractor\n",
    "\n",
    "pypeline.target_loader = csv_loader\n",
    "pypeline.add_steps([var_create, var_update])\n",
    "# pypeline.add_steps([print_df_step, cache_state, diverge_step1, print_df_step, loader, extractor2, reload_state, diverge_step2, print_df_step])"
   ]
  },
  {
   "cell_type": "code",
   "execution_count": 9,
   "metadata": {},
   "outputs": [
    {
     "name": "stdout",
     "output_type": "stream",
     "text": [
      "Successfully added step with key: 25dac2d2dae014fb38d1ca9328cd5654\n",
      "No valid checkpoint found, starting from the beginning...\n"
     ]
    },
    {
     "name": "stderr",
     "output_type": "stream",
     "text": [
      "Executing Pypeline: 100%|██████████| 5/5 [00:00<00:00, 437.78it/s]\n"
     ]
    },
    {
     "name": "stdout",
     "output_type": "stream",
     "text": [
      "Executing Step: CSVExtractor\n",
      "Executing Step: CreateVariable\n",
      "Executing Step: UpdateVariable\n",
      "Executing Step: CSVLoader\n",
      "Executing Step: reset_cache\n",
      "No valid checkpoint found, starting from the beginning...\n"
     ]
    },
    {
     "name": "stderr",
     "output_type": "stream",
     "text": [
      "Executing Pypeline: 100%|██████████| 5/5 [00:00<00:00, 744.49it/s]"
     ]
    },
    {
     "name": "stdout",
     "output_type": "stream",
     "text": [
      "Executing Step: CSVExtractor\n",
      "Executing Step: CreateVariable\n",
      "Executing Step: UpdateVariable\n",
      "Executing Step: CSVLoader\n",
      "Executing Step: reset_cache\n"
     ]
    },
    {
     "name": "stderr",
     "output_type": "stream",
     "text": [
      "\n"
     ]
    }
   ],
   "source": [
    "pypeline.execute(chunker=RecursiveChunker)"
   ]
  },
  {
   "cell_type": "code",
   "execution_count": 10,
   "metadata": {},
   "outputs": [
    {
     "name": "stdout",
     "output_type": "stream",
     "text": [
      "{'chunk_coordinates': None, 'test_var': 100}\n",
      "OrderedDict({'190c24b772bdc0bb5b66e4561cc6a959': <pypeline.extract.csv_extractor.CSVExtractor object at 0x1282f6f00>, '32d19eb47ab401990ab22f7a7131e175': <pypeline.transform.dataframe_transformations.CreateVariable object at 0x129d80140>, 'f5809fe043c6f2ca419783197caeaa26': <pypeline.transform.dataframe_transformations.UpdateVariable object at 0x129dda930>, '2bccaac0d8c1b35e3fe74c2843e26c43': <pypeline.load.csv_loader.CSVLoader object at 0x128dd2540>, '25dac2d2dae014fb38d1ca9328cd5654': <pypeline.transform.cache_transformations.ResetCache object at 0x12856d400>})\n",
      "OrderedDict({'190c24b772bdc0bb5b66e4561cc6a959': 'CSVExtractor', '32d19eb47ab401990ab22f7a7131e175': 'CreateVariable', 'f5809fe043c6f2ca419783197caeaa26': 'UpdateVariable', '2bccaac0d8c1b35e3fe74c2843e26c43': 'CSVLoader', '25dac2d2dae014fb38d1ca9328cd5654': 'reset_cache'})\n",
      "{'2bccaac0d8c1b35e3fe74c2843e26c43': ['tmp']}\n",
      "pypeline object\n"
     ]
    }
   ],
   "source": [
    "print(pypeline)"
   ]
  }
 ],
 "metadata": {
  "kernelspec": {
   "display_name": ".venv",
   "language": "python",
   "name": "python3"
  },
  "language_info": {
   "codemirror_mode": {
    "name": "ipython",
    "version": 3
   },
   "file_extension": ".py",
   "mimetype": "text/x-python",
   "name": "python",
   "nbconvert_exporter": "python",
   "pygments_lexer": "ipython3",
   "version": "3.12.5"
  }
 },
 "nbformat": 4,
 "nbformat_minor": 2
}
