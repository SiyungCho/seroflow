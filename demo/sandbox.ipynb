{
 "cells": [
  {
   "cell_type": "code",
   "execution_count": 1,
   "metadata": {},
   "outputs": [],
   "source": [
    "import sys\n",
    "sys.path.append('/Users/frankcho/Desktop/pypeline/src/')\n",
    "\n",
    "from pypeline.pypeline import pypeline as pypeline\n",
    "from pypeline.Step import step as step\n",
    "from pypeline.Extract import csv_extractor as csv_extractor"
   ]
  },
  {
   "cell_type": "code",
   "execution_count": 2,
   "metadata": {},
   "outputs": [],
   "source": [
    "@step(params={'a': 2}, dataframes=['tmp'])\n",
    "def custom_step(context, a, b=1):\n",
    "    print(\"This is a custom step\")\n",
    "    print(a)\n",
    "    print(b)\n",
    "    print(context)\n",
    "    return a, b"
   ]
  },
  {
   "cell_type": "code",
   "execution_count": 3,
   "metadata": {},
   "outputs": [],
   "source": [
    "extractor = csv_extractor(source='/Users/frankcho/Desktop/pypeline/demo/tempdata/', index_col=False)"
   ]
  },
  {
   "cell_type": "code",
   "execution_count": 4,
   "metadata": {},
   "outputs": [
    {
     "name": "stdout",
     "output_type": "stream",
     "text": [
      "Successfully added step with key: ff67f2fc-5e62-40be-8f97-b4cae736cdc9\n"
     ]
    }
   ],
   "source": [
    "pypeline.target_extractor = extractor\n",
    "pypeline = pypeline()\n",
    "pypeline.add_steps([custom_step])"
   ]
  },
  {
   "cell_type": "code",
   "execution_count": 5,
   "metadata": {},
   "outputs": [
    {
     "name": "stdout",
     "output_type": "stream",
     "text": [
      "Executing Step: csv_extractor\n",
      "Added dataframe: tmp to globalcontext\n",
      "Executing Step: custom_step\n",
      "This is a custom step\n",
      "2\n",
      "1\n",
      "custom_step_subcontext\n",
      "{'tmp':    1  10  a  aa   true\n",
      "0  2  20  b  bb  False\n",
      "1  3  30  c  cc   True\n",
      "2  4  40  d  dd  False\n",
      "3  5  50  e  ee   True\n",
      "4  6  60  f  ff  False\n",
      "5  7  70  g  gg   True}\n",
      "{'num_dfs': 1}\n",
      "\n"
     ]
    }
   ],
   "source": [
    "pypeline.execute()"
   ]
  },
  {
   "cell_type": "code",
   "execution_count": 6,
   "metadata": {},
   "outputs": [
    {
     "name": "stdout",
     "output_type": "stream",
     "text": [
      "{'a': 2, 'b': 1}\n",
      "OrderedDict({UUID('722fbadc-0e99-49fe-8daa-a3bc6c3217e2'): <pypeline.Extract.csv_extractor.csv_extractor object at 0x107f41310>, UUID('ff67f2fc-5e62-40be-8f97-b4cae736cdc9'): <pypeline.Step.step.step object at 0x10e84e9f0>})\n",
      "OrderedDict({UUID('ff67f2fc-5e62-40be-8f97-b4cae736cdc9'): 'custom_step', UUID('722fbadc-0e99-49fe-8daa-a3bc6c3217e2'): 'csv_extractor'})\n",
      "{UUID('ff67f2fc-5e62-40be-8f97-b4cae736cdc9'): ['tmp']}\n",
      "{}\n",
      "pypeline object\n"
     ]
    }
   ],
   "source": [
    "print(pypeline)"
   ]
  }
 ],
 "metadata": {
  "kernelspec": {
   "display_name": ".venv",
   "language": "python",
   "name": "python3"
  },
  "language_info": {
   "codemirror_mode": {
    "name": "ipython",
    "version": 3
   },
   "file_extension": ".py",
   "mimetype": "text/x-python",
   "name": "python",
   "nbconvert_exporter": "python",
   "pygments_lexer": "ipython3",
   "version": "3.12.5"
  }
 },
 "nbformat": 4,
 "nbformat_minor": 2
}
