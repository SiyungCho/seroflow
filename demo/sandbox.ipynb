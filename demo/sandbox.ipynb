{
 "cells": [
  {
   "cell_type": "code",
   "execution_count": 1,
   "metadata": {},
   "outputs": [],
   "source": [
    "import sys\n",
    "# sys.path.append('/Users/frankcho/Desktop/pypeline/src/')\n",
    "sys.path.append('/home/siyung/Desktop/pypeline/src/')\n",
    "\n",
    "from pypeline.pypeline import pypeline as pypeline\n",
    "from pypeline.Step import step as step\n",
    "from pypeline.Extract import csv_extractor as csv_extractor\n",
    "# from pypeline.Extract import excel_extractor as excel_extractor\n",
    "from pypeline.Load import csv_loader as csv_loader\n",
    "# from pypeline.Cache import LFUCache as LFUCache"
   ]
  },
  {
   "cell_type": "code",
   "execution_count": 2,
   "metadata": {},
   "outputs": [],
   "source": [
    "pypeline = pypeline()"
   ]
  },
  {
   "cell_type": "code",
   "execution_count": 3,
   "metadata": {},
   "outputs": [],
   "source": [
    "@step(params={'a': 2})\n",
    "def custom_stepss(context, a, b=1):\n",
    "    print(\"This is a custom step\")\n",
    "    # print(a)\n",
    "    print(b)\n",
    "    print(context.get_dataframe('tmp'))\n",
    "    return a, b"
   ]
  },
  {
   "cell_type": "code",
   "execution_count": 4,
   "metadata": {},
   "outputs": [],
   "source": [
    "extractor = csv_extractor(source='/home/siyung/Desktop/pypeline/demo/tempdata/', index_col=False)\n",
    "# xl_extractor = excel_extractor(source='/Users/frankcho/Desktop/pypeline/demo/tempdata/')\n",
    "loader = csv_loader(target='/home/siyung/Desktop/pypeline/demo/tempdata/export/', index=False)"
   ]
  },
  {
   "cell_type": "code",
   "execution_count": 5,
   "metadata": {},
   "outputs": [
    {
     "name": "stdout",
     "output_type": "stream",
     "text": [
      "Successfully added step with key: ae0eb3f6fcde677af5a1cec600cd5673\n"
     ]
    }
   ],
   "source": [
    "pypeline.target_extractor = extractor\n",
    "# pypeline.target_loader = loader\n",
    "pypeline.add_steps([custom_stepss])"
   ]
  },
  {
   "cell_type": "code",
   "execution_count": 6,
   "metadata": {},
   "outputs": [
    {
     "ename": "KeyError",
     "evalue": "'ae0eb3f6fcde677af5a1cec600cd5673'",
     "output_type": "error",
     "traceback": [
      "\u001b[31m---------------------------------------------------------------------------\u001b[39m",
      "\u001b[31mKeyError\u001b[39m                                  Traceback (most recent call last)",
      "\u001b[36mCell\u001b[39m\u001b[36m \u001b[39m\u001b[32mIn[6]\u001b[39m\u001b[32m, line 1\u001b[39m\n\u001b[32m----> \u001b[39m\u001b[32m1\u001b[39m \u001b[43mpypeline\u001b[49m\u001b[43m.\u001b[49m\u001b[43mexecute\u001b[49m\u001b[43m(\u001b[49m\u001b[43m)\u001b[49m\n",
      "\u001b[36mFile \u001b[39m\u001b[32m~/Desktop/pypeline/src/pypeline/pypeline.py:231\u001b[39m, in \u001b[36mpypeline.execute\u001b[39m\u001b[34m(self, on_fail)\u001b[39m\n\u001b[32m    213\u001b[39m \u001b[38;5;28mself\u001b[39m.add_targets_to_steps()\n\u001b[32m    215\u001b[39m \u001b[38;5;66;03m#check cache:\u001b[39;00m\n\u001b[32m    216\u001b[39m \u001b[38;5;66;03m# search for init cache file\u001b[39;00m\n\u001b[32m    217\u001b[39m \u001b[38;5;66;03m# if one is present then we are in dev and want to figure out which cache file to start from \u001b[39;00m\n\u001b[32m   (...)\u001b[39m\u001b[32m    229\u001b[39m \u001b[38;5;66;03m# Load a previous checkpoint (if any) to determine from which step to resume.\u001b[39;00m\n\u001b[32m    230\u001b[39m \u001b[38;5;66;03m# last_checkpoint = self.load_last_checkpoint()\u001b[39;00m\n\u001b[32m--> \u001b[39m\u001b[32m231\u001b[39m checkpoint = \u001b[38;5;28;43mself\u001b[39;49m\u001b[43m.\u001b[49m\u001b[43mcache\u001b[49m\u001b[43m.\u001b[49m\u001b[43mload\u001b[49m\u001b[43m(\u001b[49m\u001b[38;5;28;43mself\u001b[39;49m\u001b[43m)\u001b[49m\n\u001b[32m    232\u001b[39m \u001b[38;5;28mprint\u001b[39m(checkpoint)\n\u001b[32m    233\u001b[39m step_keys = \u001b[38;5;28mlist\u001b[39m(\u001b[38;5;28mself\u001b[39m.step_index.keys())\n",
      "\u001b[36mFile \u001b[39m\u001b[32m~/Desktop/pypeline/src/pypeline/Cache/LFUCache.py:123\u001b[39m, in \u001b[36mLFUCache.load\u001b[39m\u001b[34m(self, pypeline)\u001b[39m\n\u001b[32m    121\u001b[39m     \u001b[38;5;28;01mbreak\u001b[39;00m\n\u001b[32m    122\u001b[39m \u001b[38;5;28;01melse\u001b[39;00m:\n\u001b[32m--> \u001b[39m\u001b[32m123\u001b[39m     \u001b[38;5;28;01mif\u001b[39;00m \u001b[38;5;129;01mnot\u001b[39;00m (\u001b[38;5;28;43mself\u001b[39;49m\u001b[43m.\u001b[49m\u001b[43mcompare_function_code\u001b[49m\u001b[43m(\u001b[49m\u001b[43mconf\u001b[49m\u001b[43m,\u001b[49m\u001b[43m \u001b[49m\u001b[43mstep_key\u001b[49m\u001b[43m,\u001b[49m\u001b[43m \u001b[49m\u001b[43mpypeline\u001b[49m\u001b[43m.\u001b[49m\u001b[43mstep_index\u001b[49m\u001b[43m[\u001b[49m\u001b[43mstep_key\u001b[49m\u001b[43m]\u001b[49m\u001b[43m.\u001b[49m\u001b[43mstep_func\u001b[49m\u001b[43m)\u001b[49m):\n\u001b[32m    124\u001b[39m         \u001b[38;5;28;01mreturn\u001b[39;00m previous_step_key \u001b[38;5;28;01mif\u001b[39;00m previous_step_key \u001b[38;5;129;01mis\u001b[39;00m \u001b[38;5;129;01mnot\u001b[39;00m \u001b[38;5;28;01mNone\u001b[39;00m \u001b[38;5;28;01melse\u001b[39;00m step_key\n\u001b[32m    125\u001b[39m previous_step_key = step_key\n",
      "\u001b[36mFile \u001b[39m\u001b[32m~/Desktop/pypeline/src/pypeline/Cache/LFUCache.py:108\u001b[39m, in \u001b[36mLFUCache.compare_function_code\u001b[39m\u001b[34m(self, conf, step_key, func)\u001b[39m\n\u001b[32m    106\u001b[39m \u001b[38;5;28;01mdef\u001b[39;00m\u001b[38;5;250m \u001b[39m\u001b[34mcompare_function_code\u001b[39m(\u001b[38;5;28mself\u001b[39m, conf, step_key, func):\n\u001b[32m    107\u001b[39m     current_hash_code = get_function_hash(func)\n\u001b[32m--> \u001b[39m\u001b[32m108\u001b[39m     conf_hash_code = \u001b[43mconf\u001b[49m\u001b[43m[\u001b[49m\u001b[43mstep_key\u001b[49m\u001b[43m]\u001b[49m.get(\u001b[33m\"\u001b[39m\u001b[33mfunc_hash\u001b[39m\u001b[33m\"\u001b[39m)\n\u001b[32m    109\u001b[39m     \u001b[38;5;28;01mif\u001b[39;00m current_hash_code != conf_hash_code:\n\u001b[32m    110\u001b[39m         \u001b[38;5;28;01mreturn\u001b[39;00m \u001b[38;5;28;01mFalse\u001b[39;00m\n",
      "\u001b[31mKeyError\u001b[39m: 'ae0eb3f6fcde677af5a1cec600cd5673'"
     ]
    }
   ],
   "source": [
    "pypeline.execute()"
   ]
  }
 ],
 "metadata": {
  "kernelspec": {
   "display_name": ".venv",
   "language": "python",
   "name": "python3"
  },
  "language_info": {
   "codemirror_mode": {
    "name": "ipython",
    "version": 3
   },
   "file_extension": ".py",
   "mimetype": "text/x-python",
   "name": "python",
   "nbconvert_exporter": "python",
   "pygments_lexer": "ipython3",
   "version": "3.12.3"
  }
 },
 "nbformat": 4,
 "nbformat_minor": 2
}
