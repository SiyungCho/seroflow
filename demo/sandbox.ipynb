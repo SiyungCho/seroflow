{
 "cells": [
  {
   "cell_type": "code",
   "execution_count": null,
   "metadata": {},
   "outputs": [],
   "source": [
    "import sys\n",
    "sys.path.append('/Users/frankcho/Desktop/pypeline/src/')\n",
    "# sys.path.append('/home/siyung/Desktop/pypeline/src/')\n",
    "\n",
    "from pypeline.pypeline import Pypeline\n",
    "from pypeline.Step import step\n",
    "\n",
    "from pypeline.Extract import csv_extractor\n",
    "from pypeline.Extract import excel_extractor\n",
    "from pypeline.Extract import sqlserver_extractor\n",
    "\n",
    "from pypeline.Load import csv_loader\n",
    "from pypeline.Load import excel_loader\n",
    "from pypeline.Load import sqlserver_loader\n",
    "\n",
    "from pypeline.Engine import sqlalchemy_engine\n",
    "from pypeline.Engine import pyodbc_engine"
   ]
  },
  {
   "cell_type": "code",
   "execution_count": null,
   "metadata": {},
   "outputs": [],
   "source": [
    "pypeline = Pypeline()"
   ]
  },
  {
   "cell_type": "code",
   "execution_count": null,
   "metadata": {},
   "outputs": [],
   "source": [
    "@step(params={'a': 2})\n",
    "def print_df_step(context, a, b=1):\n",
    "    print(\"This is a custom step1\")\n",
    "    print(a)\n",
    "    print(b)\n",
    "    print(context.get_dataframe('tmp'))\n",
    "    return a, b"
   ]
  },
  {
   "cell_type": "code",
   "execution_count": 4,
   "metadata": {},
   "outputs": [],
   "source": [
    "# extractor = csv_extractor(source='/home/siyung/Desktop/pypeline/demo/tempdata/', index_col=False)\n",
    "# xl_extractor = excel_extractor(source='/home/siyung/Desktop/pypeline/demo/tempdata/')\n",
    "# loader = csv_loader(target='/home/siyung/Desktop/pypeline/demo/tempdata/export/', index=False)"
   ]
  },
  {
   "cell_type": "code",
   "execution_count": 5,
   "metadata": {},
   "outputs": [],
   "source": [
    "extractor = csv_extractor(source='/Users/frankcho/Desktop/pypeline/demo/tempdata/', index_col=False)\n",
    "extractor2 = csv_extractor(source='/Users/frankcho/Desktop/pypeline/demo/tempdata/export', index_col=False)\n",
    "\n",
    "xl_extractor = excel_extractor(source='/Users/frankcho/Desktop/pypeline/demo/tempdata/')\n",
    "loader = csv_loader(target='/Users/frankcho/Desktop/pypeline/demo/tempdata/export/', index=False)\n",
    "loader2 = csv_loader(target='/Users/frankcho/Desktop/pypeline/demo/tempdata/export/secondexport', index=False)\n",
    "\n",
    "cache_state = pypeline.cache_state()\n",
    "reload_state = pypeline.reload_cached_state(cache_key=0)"
   ]
  },
  {
   "cell_type": "code",
   "execution_count": 6,
   "metadata": {},
   "outputs": [],
   "source": [
    "pypeline.target_extractor = extractor\n",
    "pypeline.target_loader = loader\n",
    "# pypeline.add_steps([print_df_step, cache_state, diverge_step1, print_df_step, loader, extractor2, reload_state, diverge_step2, print_df_step])"
   ]
  },
  {
   "cell_type": "code",
   "execution_count": 7,
   "metadata": {},
   "outputs": [
    {
     "name": "stdout",
     "output_type": "stream",
     "text": [
      "Successfully added target extractor with key: 87ebafa433e0495b315fcebb6204041a\n",
      "Successfully added target loader with key: fd8a0f19ab880247d4c498e39585a5b6\n",
      "No valid checkpoint found, starting from the beginning...\n"
     ]
    },
    {
     "name": "stderr",
     "output_type": "stream",
     "text": [
      "Executing ETL Steps: 100%|██████████| 2/2 [00:00<00:00, 214.96it/s]"
     ]
    },
    {
     "name": "stdout",
     "output_type": "stream",
     "text": [
      "Executing Step: csv_extractor\n",
      "Executing Step: csv_loader\n"
     ]
    },
    {
     "name": "stderr",
     "output_type": "stream",
     "text": [
      "\n"
     ]
    }
   ],
   "source": [
    "pypeline.execute()"
   ]
  }
 ],
 "metadata": {
  "kernelspec": {
   "display_name": ".venv",
   "language": "python",
   "name": "python3"
  },
  "language_info": {
   "codemirror_mode": {
    "name": "ipython",
    "version": 3
   },
   "file_extension": ".py",
   "mimetype": "text/x-python",
   "name": "python",
   "nbconvert_exporter": "python",
   "pygments_lexer": "ipython3",
   "version": "3.12.3"
  }
 },
 "nbformat": 4,
 "nbformat_minor": 2
}
