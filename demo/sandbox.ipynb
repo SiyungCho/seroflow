{
 "cells": [
  {
   "cell_type": "code",
   "execution_count": 1,
   "metadata": {},
   "outputs": [],
   "source": [
    "import sys\n",
    "sys.path.append('/Users/frankcho/Desktop/pypeline/src/')\n",
    "# sys.path.append('/home/siyung/Desktop/pypeline/src/')\n",
    "\n",
    "from pypeline.pypeline import Pypeline\n",
    "from pypeline.step import Step\n",
    "\n",
    "from pypeline.extract import CSVExtractor\n",
    "from pypeline.extract import ExcelExtractor\n",
    "from pypeline.extract import SQLServerExtractor\n",
    "\n",
    "from pypeline.load import CSVLoader\n",
    "from pypeline.load import ExcelLoader\n",
    "from pypeline.load import SQLServerLoader\n",
    "\n",
    "from pypeline.chunker import DirectChunker\n",
    "\n",
    "# from pypeline.engine import SQLAlchemyEngine\n",
    "# from pypeline.engine import PyodbcEngine"
   ]
  },
  {
   "cell_type": "code",
   "execution_count": 2,
   "metadata": {},
   "outputs": [],
   "source": [
    "pypeline = Pypeline()"
   ]
  },
  {
   "cell_type": "code",
   "execution_count": 3,
   "metadata": {},
   "outputs": [],
   "source": [
    "@Step(params={'a': 2})\n",
    "def print_df_step(context, a, b=1):\n",
    "    print(\"This is a custom step1\")\n",
    "    print(context.get_dataframe('tmp'))\n",
    "    return a, b\n",
    "\n",
    "@Step()\n",
    "def print_df_step2(context):\n",
    "    print(\"This is a custom step1\")\n",
    "    print(context.get_dataframe('tmpBook'))\n"
   ]
  },
  {
   "cell_type": "code",
   "execution_count": 4,
   "metadata": {},
   "outputs": [],
   "source": [
    "# extractor = CSVExtractor(source='/home/siyung/Desktop/pypeline/demo/tempdata/', index_col=False)\n",
    "# xl_extractor = ExcelExtractor(source='/home/siyung/Desktop/pypeline/demo/tempdata/')\n",
    "# loader = CSVLoader(target='/home/siyung/Desktop/pypeline/demo/tempdata/export/', index=False)"
   ]
  },
  {
   "cell_type": "code",
   "execution_count": 5,
   "metadata": {},
   "outputs": [],
   "source": [
    "extractor = CSVExtractor(source='/Users/frankcho/Desktop/pypeline/demo/tempdata/', chunk_size=1, index_col=False, header=None)\n",
    "# extractor2 = CSVExtractor(source='/Users/frankcho/Desktop/pypeline/demo/tempdata/export', index_col=False)\n",
    "\n",
    "xl_extractor = ExcelExtractor(source='/Users/frankcho/Desktop/pypeline/demo/tempdata/', chunk_size=2, header=None)\n",
    "loader = CSVLoader(target='/Users/frankcho/Desktop/pypeline/demo/tempdata/export/', index=False, header=False)\n",
    "# loader2 = CSVLoader(target='/Users/frankcho/Desktop/pypeline/demo/tempdata/export/secondexport', index=False)\n",
    "\n",
    "# cache_state = pypeline.cache_state()\n",
    "# reload_state = pypeline.reload_cached_state(cache_key=0)"
   ]
  },
  {
   "cell_type": "code",
   "execution_count": 6,
   "metadata": {},
   "outputs": [
    {
     "name": "stdout",
     "output_type": "stream",
     "text": [
      "Successfully added step with key: 5384c54d3bd68715812bd9480e8adb85\n",
      "Successfully added step with key: 0b31cc6b31a422983771068cbdf6a923\n",
      "Successfully added step with key: f5e71a0bea083254707ca05a5cd6b067\n"
     ]
    }
   ],
   "source": [
    "pypeline.target_extractor = extractor\n",
    "pypeline.target_loader = loader\n",
    "pypeline.add_steps([print_df_step, xl_extractor, print_df_step2])\n",
    "# pypeline.add_steps([print_df_step, cache_state, diverge_step1, print_df_step, loader, extractor2, reload_state, diverge_step2, print_df_step])"
   ]
  },
  {
   "cell_type": "code",
   "execution_count": 7,
   "metadata": {},
   "outputs": [
    {
     "name": "stdout",
     "output_type": "stream",
     "text": [
      "Successfully added step with key: 265a8c16da69ec12db7978232af482c8\n",
      "7\n",
      "5\n",
      "Coordinate queue:\n",
      "Coordinate Queue (Total items: 14):\n",
      "  1: (0, 1)\n",
      "  2: (0, 2)\n",
      "  3: (1, 2)\n",
      "  4: (2, 4)\n",
      "  5: (2, 3)\n",
      "  6: (4, 5)\n",
      "  7: (3, 4)\n",
      "  8: (None, None)\n",
      "  9: (4, 5)\n",
      "  10: (None, None)\n",
      "  11: (5, 6)\n",
      "  12: (None, None)\n",
      "  13: (6, 7)\n",
      "  14: (None, None)\n",
      "\n",
      "\n",
      "No valid checkpoint found, starting from the beginning...\n"
     ]
    },
    {
     "name": "stderr",
     "output_type": "stream",
     "text": [
      "Executing Pypeline: 100%|██████████| 6/6 [00:00<00:00, 271.04it/s]\n"
     ]
    },
    {
     "name": "stdout",
     "output_type": "stream",
     "text": [
      "Executing Step: CSVExtractor\n",
      "csv coords:\n",
      "0\n",
      "1\n",
      "Executing Step: print_df_step\n",
      "This is a custom step1\n",
      "   0   1  2   3     4\n",
      "0  1  10  a  aa  True\n",
      "Executing Step: ExcelExtractor\n",
      "excel coords:\n",
      "0\n",
      "2\n",
      "Executing Step: print_df_step2\n",
      "This is a custom step1\n",
      "   0  1   2\n",
      "0  a  7  te\n",
      "1  s  5  te\n",
      "Executing Step: CSVLoader\n",
      "Executing Step: reset_cache\n",
      "No valid checkpoint found, starting from the beginning...\n"
     ]
    },
    {
     "name": "stderr",
     "output_type": "stream",
     "text": [
      "Executing Pypeline: 100%|██████████| 6/6 [00:00<00:00, 202.35it/s]\n"
     ]
    },
    {
     "name": "stdout",
     "output_type": "stream",
     "text": [
      "Executing Step: CSVExtractor\n",
      "csv coords:\n",
      "1\n",
      "2\n",
      "Executing Step: print_df_step\n",
      "This is a custom step1\n",
      "   0   1  2   3      4\n",
      "0  2  20  b  bb  False\n",
      "Executing Step: ExcelExtractor\n",
      "excel coords:\n",
      "2\n",
      "4\n",
      "Executing Step: print_df_step2\n",
      "This is a custom step1\n",
      "   0  1   2\n",
      "0  c  6  te\n",
      "1  d  4  te\n",
      "Executing Step: CSVLoader\n",
      "Executing Step: reset_cache\n",
      "No valid checkpoint found, starting from the beginning...\n"
     ]
    },
    {
     "name": "stderr",
     "output_type": "stream",
     "text": [
      "Executing Pypeline: 100%|██████████| 6/6 [00:00<00:00, 648.94it/s]\n"
     ]
    },
    {
     "name": "stdout",
     "output_type": "stream",
     "text": [
      "Executing Step: CSVExtractor\n",
      "csv coords:\n",
      "2\n",
      "3\n",
      "Executing Step: print_df_step\n",
      "This is a custom step1\n",
      "   0   1  2   3     4\n",
      "0  3  30  c  cc  True\n",
      "Executing Step: ExcelExtractor\n",
      "excel coords:\n",
      "4\n",
      "5\n",
      "Executing Step: print_df_step2\n",
      "This is a custom step1\n",
      "   0  1   2\n",
      "0  f  3  te\n",
      "Executing Step: CSVLoader\n",
      "Executing Step: reset_cache\n",
      "No valid checkpoint found, starting from the beginning...\n"
     ]
    },
    {
     "name": "stderr",
     "output_type": "stream",
     "text": [
      "Executing Pypeline: 100%|██████████| 6/6 [00:00<00:00, 753.20it/s]\n"
     ]
    },
    {
     "name": "stdout",
     "output_type": "stream",
     "text": [
      "Executing Step: CSVExtractor\n",
      "csv coords:\n",
      "3\n",
      "4\n",
      "Executing Step: print_df_step\n",
      "This is a custom step1\n",
      "   0   1  2   3      4\n",
      "0  4  40  d  dd  False\n",
      "Executing Step: ExcelExtractor\n",
      "excel coords:\n",
      "None\n",
      "None\n",
      "Executing Step: print_df_step2\n",
      "This is a custom step1\n",
      "Empty DataFrame\n",
      "Columns: []\n",
      "Index: []\n",
      "Executing Step: CSVLoader\n",
      "Executing Step: reset_cache\n",
      "No valid checkpoint found, starting from the beginning...\n"
     ]
    },
    {
     "name": "stderr",
     "output_type": "stream",
     "text": [
      "Executing Pypeline: 100%|██████████| 6/6 [00:00<00:00, 714.96it/s]\n"
     ]
    },
    {
     "name": "stdout",
     "output_type": "stream",
     "text": [
      "Executing Step: CSVExtractor\n",
      "csv coords:\n",
      "4\n",
      "5\n",
      "Executing Step: print_df_step\n",
      "This is a custom step1\n",
      "   0   1  2   3     4\n",
      "0  5  50  e  ee  True\n",
      "Executing Step: ExcelExtractor\n",
      "excel coords:\n",
      "None\n",
      "None\n",
      "Executing Step: print_df_step2\n",
      "This is a custom step1\n",
      "Empty DataFrame\n",
      "Columns: []\n",
      "Index: []\n",
      "Executing Step: CSVLoader\n",
      "Executing Step: reset_cache\n",
      "No valid checkpoint found, starting from the beginning...\n"
     ]
    },
    {
     "name": "stderr",
     "output_type": "stream",
     "text": [
      "Executing Pypeline: 100%|██████████| 6/6 [00:00<00:00, 924.77it/s]\n"
     ]
    },
    {
     "name": "stdout",
     "output_type": "stream",
     "text": [
      "Executing Step: CSVExtractor\n",
      "csv coords:\n",
      "5\n",
      "6\n",
      "Executing Step: print_df_step\n",
      "This is a custom step1\n",
      "   0   1  2   3      4\n",
      "0  6  60  f  ff  False\n",
      "Executing Step: ExcelExtractor\n",
      "excel coords:\n",
      "None\n",
      "None\n",
      "Executing Step: print_df_step2\n",
      "This is a custom step1\n",
      "Empty DataFrame\n",
      "Columns: []\n",
      "Index: []\n",
      "Executing Step: CSVLoader\n",
      "Executing Step: reset_cache\n",
      "No valid checkpoint found, starting from the beginning...\n"
     ]
    },
    {
     "name": "stderr",
     "output_type": "stream",
     "text": [
      "Executing Pypeline: 100%|██████████| 6/6 [00:00<00:00, 597.07it/s]"
     ]
    },
    {
     "name": "stdout",
     "output_type": "stream",
     "text": [
      "Executing Step: CSVExtractor\n",
      "csv coords:\n",
      "6\n",
      "7\n",
      "Executing Step: print_df_step\n",
      "This is a custom step1\n",
      "   0   1  2   3     4\n",
      "0  7  70  g  gg  True\n",
      "Executing Step: ExcelExtractor\n",
      "excel coords:\n",
      "None\n",
      "None\n",
      "Executing Step: print_df_step2\n",
      "This is a custom step1\n",
      "Empty DataFrame\n",
      "Columns: []\n",
      "Index: []\n",
      "Executing Step: CSVLoader\n",
      "Executing Step: reset_cache\n"
     ]
    },
    {
     "name": "stderr",
     "output_type": "stream",
     "text": [
      "\n"
     ]
    }
   ],
   "source": [
    "pypeline.execute(chunker=DirectChunker)"
   ]
  }
 ],
 "metadata": {
  "kernelspec": {
   "display_name": ".venv",
   "language": "python",
   "name": "python3"
  },
  "language_info": {
   "codemirror_mode": {
    "name": "ipython",
    "version": 3
   },
   "file_extension": ".py",
   "mimetype": "text/x-python",
   "name": "python",
   "nbconvert_exporter": "python",
   "pygments_lexer": "ipython3",
   "version": "3.12.5"
  }
 },
 "nbformat": 4,
 "nbformat_minor": 2
}
