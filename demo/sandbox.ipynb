{
 "cells": [
  {
   "cell_type": "code",
   "execution_count": 1,
   "metadata": {},
   "outputs": [],
   "source": [
    "import sys\n",
    "\n",
    "mac_path = \"/Users/frankcho/Desktop/pypeline/\"\n",
    "linux_path = \"/home/siyung/Desktop/pypeline/\"\n",
    "sys.path.append(mac_path + 'src/')\n",
    "\n",
    "from pypeline.pypeline import Pypeline\n",
    "from pypeline.step import Step\n",
    "\n",
    "from pypeline.extract import CSVExtractor\n",
    "from pypeline.extract import ExcelExtractor\n",
    "from pypeline.extract import MultiCSVExtractor\n",
    "from pypeline.extract import MultiExcelExtractor\n",
    "\n",
    "from pypeline.load import CSVLoader\n",
    "from pypeline.load import ExcelLoader\n",
    "from pypeline.load import MultiCSVLoader\n",
    "from pypeline.load import MultiExcelLoader\n",
    "\n",
    "from pypeline.chunker import DirectChunker\n",
    "from pypeline.chunker import DistributedChunker\n",
    "\n",
    "from pypeline.transform import UpdateVariable\n",
    "from pypeline.transform import CreateVariable\n",
    "\n",
    "from pypeline.transform import DisplayInfo\n",
    "from pypeline.transform import DisplayColumns\n",
    "\n",
    "# from pypeline.engine import SQLAlchemyEngine\n",
    "# from pypeline.engine import PyodbcEngine"
   ]
  },
  {
   "cell_type": "code",
   "execution_count": 2,
   "metadata": {},
   "outputs": [],
   "source": [
    "from pypeline.transform import IncrementVariable\n",
    "from pypeline.transform import DecrementVariable\n",
    "from pypeline.transform import MultiplyVariable\n",
    "from pypeline.transform import DivideVariable\n",
    "from pypeline.transform import CopyVariable\n",
    "\n",
    "from pypeline.transform import GetColSum\n",
    "from pypeline.transform import TransposeDataFrame"
   ]
  },
  {
   "cell_type": "code",
   "execution_count": 3,
   "metadata": {},
   "outputs": [],
   "source": [
    "pypeline = Pypeline(mode=\"PROD\")"
   ]
  },
  {
   "cell_type": "code",
   "execution_count": 4,
   "metadata": {},
   "outputs": [],
   "source": [
    "@Step()\n",
    "def print_df_step(context, a=1, b=1):\n",
    "    print(\"This is a custom step1\")\n",
    "    print(context.get_dataframe('tmp'))\n",
    "    return a, b\n",
    "\n",
    "@Step()\n",
    "def print_df_step2(context):\n",
    "    print(\"This is a custom step1\")\n",
    "    print(context.get_dataframe('tmpBook'))\n"
   ]
  },
  {
   "cell_type": "code",
   "execution_count": null,
   "metadata": {},
   "outputs": [],
   "source": [
    "# csv_extractor = CSVExtractor(source= mac_path+'demo/tempdata/tmp.csv', index_col=False, header=None)\n",
    "# multi_csv_extractor = MultiCSVExtractor(source='/Users/frankcho/Desktop/pypeline/demo/tempdata/', chunk_size=3, index_col=False, header=None)\n",
    "\n",
    "excel_extractor = ExcelExtractor(source='/Users/frankcho/Desktop/pypeline/demo/tempdata/tmpBook.xlsx', chunk_size=3, index_col=False, header=None)\n",
    "# multi_excel_extractor = MultiExcelExtractor(source='/Users/frankcho/Desktop/pypeline/demo/tempdata/', chunk_size=1, index_col=False, header=None)\n",
    "\n",
    "csv_loader = CSVLoader(target= mac_path+'demo/tempdata/export/', dataframe='tmpBook', index=False, header=False)\n",
    "# multi_csv_loader = MultiCSVLoader(target='/Users/frankcho/Desktop/pypeline/demo/tempdata/export/', dataframes=['tmp', 'othertmp'], index=False, header=False)\n",
    "\n",
    "# excel_loader = ExcelLoader(target='/Users/frankcho/Desktop/pypeline/demo/tempdata/export/', dataframe='tmp', index=False, header=False)\n",
    "# multi_excel_loader = MultiExcelLoader(target='/Users/frankcho/Desktop/pypeline/demo/tempdata/export/', index=False, header=False)"
   ]
  },
  {
   "cell_type": "code",
   "execution_count": 6,
   "metadata": {},
   "outputs": [],
   "source": [
    "var_create = CreateVariable(variable='test_var', value=50)\n",
    "inc_var = IncrementVariable(variable='test_var', increment_by=\"dafaefga\", on_error='ignore')\n",
    "col_sum = GetColSum(column=1, dataframe='tmp', variable='column_sum')\n",
    "transpose = TransposeDataFrame(dataframe='tmp')"
   ]
  },
  {
   "cell_type": "code",
   "execution_count": 7,
   "metadata": {},
   "outputs": [],
   "source": [
    "display_columns = DisplayColumns(dataframes='tmp')\n",
    "display_info = DisplayInfo(dataframes='tmp')"
   ]
  },
  {
   "cell_type": "code",
   "execution_count": null,
   "metadata": {},
   "outputs": [],
   "source": [
    "pypeline.target_extractor = excel_extractor\n",
    "pypeline.target_loader = csv_loader\n",
    "# pypeline.add_steps([print_df_step])\n",
    "# pypeline.add_steps([var_create, display_columns, inc_var, col_sum, transpose, print_df_step])"
   ]
  },
  {
   "cell_type": "code",
   "execution_count": 9,
   "metadata": {},
   "outputs": [
    {
     "name": "stdout",
     "output_type": "stream",
     "text": [
      "Beginning ETL Execution at time: 2025-03-18 09:33:00 ...\n"
     ]
    },
    {
     "name": "stderr",
     "output_type": "stream",
     "text": [
      "Executing Pypeline: 100%|██████████| 4/4 [00:00<00:00, 379.58it/s]\n"
     ]
    },
    {
     "name": "stdout",
     "output_type": "stream",
     "text": [
      "Executing Step: CSVExtractor \n",
      "Executing Step: CSVExtractor \n",
      "Executing Step: print_df_step \n",
      "This is a custom step1\n",
      "   0   1  2   3     4\n",
      "0  1  10  a  aa  True\n",
      "Executing Step: MultiCSVLoader \n",
      "Beginning ETL Execution at time: 2025-03-18 09:33:00 ...\n"
     ]
    },
    {
     "name": "stderr",
     "output_type": "stream",
     "text": [
      "Executing Pypeline: 100%|██████████| 4/4 [00:00<00:00, 1267.45it/s]\n"
     ]
    },
    {
     "name": "stdout",
     "output_type": "stream",
     "text": [
      "Executing Step: CSVExtractor \n",
      "Executing Step: CSVExtractor \n",
      "Executing Step: print_df_step \n",
      "This is a custom step1\n",
      "   0   1  2   3      4\n",
      "0  2  20  b  bb  False\n",
      "Executing Step: MultiCSVLoader \n",
      "Beginning ETL Execution at time: 2025-03-18 09:33:00 ...\n"
     ]
    },
    {
     "name": "stderr",
     "output_type": "stream",
     "text": [
      "Executing Pypeline: 100%|██████████| 4/4 [00:00<00:00, 1076.77it/s]\n"
     ]
    },
    {
     "name": "stdout",
     "output_type": "stream",
     "text": [
      "Executing Step: CSVExtractor \n",
      "Executing Step: CSVExtractor \n",
      "Executing Step: print_df_step \n",
      "This is a custom step1\n",
      "   0   1  2   3     4\n",
      "0  3  30  c  cc  True\n",
      "Executing Step: MultiCSVLoader \n",
      "Beginning ETL Execution at time: 2025-03-18 09:33:00 ...\n"
     ]
    },
    {
     "name": "stderr",
     "output_type": "stream",
     "text": [
      "Executing Pypeline: 100%|██████████| 4/4 [00:00<00:00, 639.40it/s]\n"
     ]
    },
    {
     "name": "stdout",
     "output_type": "stream",
     "text": [
      "Executing Step: CSVExtractor \n",
      "Executing Step: CSVExtractor \n",
      "Executing Step: print_df_step \n",
      "This is a custom step1\n",
      "   0   1  2   3      4\n",
      "0  4  40  d  dd  False\n",
      "Executing Step: MultiCSVLoader \n",
      "Beginning ETL Execution at time: 2025-03-18 09:33:00 ...\n"
     ]
    },
    {
     "name": "stderr",
     "output_type": "stream",
     "text": [
      "Executing Pypeline: 100%|██████████| 4/4 [00:00<00:00, 860.63it/s]\n"
     ]
    },
    {
     "name": "stdout",
     "output_type": "stream",
     "text": [
      "Executing Step: CSVExtractor \n",
      "Executing Step: CSVExtractor \n",
      "Executing Step: print_df_step \n",
      "This is a custom step1\n",
      "   0   1  2   3     4\n",
      "0  5  50  e  ee  True\n",
      "Executing Step: MultiCSVLoader \n",
      "Beginning ETL Execution at time: 2025-03-18 09:33:00 ...\n"
     ]
    },
    {
     "name": "stderr",
     "output_type": "stream",
     "text": [
      "Executing Pypeline: 100%|██████████| 4/4 [00:00<00:00, 1282.37it/s]\n"
     ]
    },
    {
     "name": "stdout",
     "output_type": "stream",
     "text": [
      "Executing Step: CSVExtractor \n",
      "Executing Step: CSVExtractor \n",
      "Executing Step: print_df_step \n",
      "This is a custom step1\n",
      "   0   1  2   3      4\n",
      "0  6  60  f  ff  False\n",
      "Executing Step: MultiCSVLoader \n",
      "Beginning ETL Execution at time: 2025-03-18 09:33:00 ...\n"
     ]
    },
    {
     "name": "stderr",
     "output_type": "stream",
     "text": [
      "Executing Pypeline: 100%|██████████| 4/4 [00:00<00:00, 1024.63it/s]"
     ]
    },
    {
     "name": "stdout",
     "output_type": "stream",
     "text": [
      "Executing Step: CSVExtractor \n",
      "Executing Step: CSVExtractor \n",
      "Executing Step: print_df_step \n",
      "This is a custom step1\n",
      "   0   1  2   3     4\n",
      "0  7  70  g  gg  True\n",
      "Executing Step: MultiCSVLoader \n"
     ]
    },
    {
     "name": "stderr",
     "output_type": "stream",
     "text": [
      "\n"
     ]
    }
   ],
   "source": [
    "pypeline.execute(chunker=DistributedChunker)"
   ]
  },
  {
   "cell_type": "code",
   "execution_count": 10,
   "metadata": {},
   "outputs": [
    {
     "name": "stdout",
     "output_type": "stream",
     "text": [
      "----Pypeline Object----\n",
      "Parameters Index: {'a': 1, 'b': 1}\n",
      "Step Index: OrderedDict({'190c24b772bdc0bb5b66e4561cc6a959': <pypeline.extract.csv_extractor.CSVExtractor object at 0x105f63800>, 'de222ed930bca8da97e04ac3f0e1a8c4': <pypeline.extract.csv_extractor.CSVExtractor object at 0x10cf96090>, '5384c54d3bd68715812bd9480e8adb85': <pypeline.step.step.Step object at 0x10d682f30>, '8358fb5e7d5018acfd0afb59f42889e6': <pypeline.load.csv_loader.MultiCSVLoader object at 0x10d5f7d40>})\n",
      "Step Name Index: OrderedDict({'190c24b772bdc0bb5b66e4561cc6a959': 'CSVExtractor', 'de222ed930bca8da97e04ac3f0e1a8c4': 'CSVExtractor', '5384c54d3bd68715812bd9480e8adb85': 'print_df_step', '8358fb5e7d5018acfd0afb59f42889e6': 'MultiCSVLoader'})\n",
      "Dataframe Index: {'8358fb5e7d5018acfd0afb59f42889e6': ['tmp', 'othertmp']}\n",
      "-----------------------\n"
     ]
    }
   ],
   "source": [
    "print(pypeline)"
   ]
  }
 ],
 "metadata": {
  "kernelspec": {
   "display_name": ".venv",
   "language": "python",
   "name": "python3"
  },
  "language_info": {
   "codemirror_mode": {
    "name": "ipython",
    "version": 3
   },
   "file_extension": ".py",
   "mimetype": "text/x-python",
   "name": "python",
   "nbconvert_exporter": "python",
   "pygments_lexer": "ipython3",
   "version": "3.12.5"
  }
 },
 "nbformat": 4,
 "nbformat_minor": 2
}
