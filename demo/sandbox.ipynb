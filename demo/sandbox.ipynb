{
 "cells": [
  {
   "cell_type": "code",
   "execution_count": 1,
   "metadata": {},
   "outputs": [],
   "source": [
    "import sys\n",
    "sys.path.append('/Users/frankcho/Desktop/pypeline/src/')\n",
    "# sys.path.append('/home/siyung/Desktop/pypeline/src/')\n",
    "\n",
    "from pypeline.pypeline import Pypeline\n",
    "from pypeline.step import Step\n",
    "\n",
    "from pypeline.extract import CSVExtractor\n",
    "from pypeline.extract import ExcelExtractor\n",
    "from pypeline.extract import SQLServerExtractor\n",
    "\n",
    "from pypeline.load import CSVLoader\n",
    "from pypeline.load import ExcelLoader\n",
    "from pypeline.load import SQLServerLoader\n",
    "\n",
    "from pypeline.chunker import DirectChunker\n",
    "\n",
    "# from pypeline.engine import SQLAlchemyEngine\n",
    "# from pypeline.engine import PyodbcEngine"
   ]
  },
  {
   "cell_type": "code",
   "execution_count": 2,
   "metadata": {},
   "outputs": [],
   "source": [
    "pypeline = Pypeline()"
   ]
  },
  {
   "cell_type": "code",
   "execution_count": 3,
   "metadata": {},
   "outputs": [],
   "source": [
    "@Step(params={'a': 2})\n",
    "def print_df_step(context, a, b=1):\n",
    "    print(\"This is a custom step1\")\n",
    "    print(a)\n",
    "    print(b)\n",
    "    print(context.get_dataframe('tmp'))\n",
    "    return a, b"
   ]
  },
  {
   "cell_type": "code",
   "execution_count": 4,
   "metadata": {},
   "outputs": [],
   "source": [
    "# extractor = CSVExtractor(source='/home/siyung/Desktop/pypeline/demo/tempdata/', index_col=False)\n",
    "# xl_extractor = ExcelExtractor(source='/home/siyung/Desktop/pypeline/demo/tempdata/')\n",
    "# loader = CSVLoader(target='/home/siyung/Desktop/pypeline/demo/tempdata/export/', index=False)"
   ]
  },
  {
   "cell_type": "code",
   "execution_count": null,
   "metadata": {},
   "outputs": [],
   "source": [
    "extractor = CSVExtractor(source='/Users/frankcho/Desktop/pypeline/demo/tempdata/', chunk_size=2, index_col=False, header=None)\n",
    "# extractor2 = CSVExtractor(source='/Users/frankcho/Desktop/pypeline/demo/tempdata/export', index_col=False)\n",
    "\n",
    "# xl_extractor = ExcelExtractor(source='/Users/frankcho/Desktop/pypeline/demo/tempdata/')\n",
    "loader = CSVLoader(target='/Users/frankcho/Desktop/pypeline/demo/tempdata/export/', index=False, header=False)\n",
    "# loader2 = CSVLoader(target='/Users/frankcho/Desktop/pypeline/demo/tempdata/export/secondexport', index=False)\n",
    "\n",
    "# cache_state = pypeline.cache_state()\n",
    "# reload_state = pypeline.reload_cached_state(cache_key=0)"
   ]
  },
  {
   "cell_type": "code",
   "execution_count": 6,
   "metadata": {},
   "outputs": [
    {
     "name": "stdout",
     "output_type": "stream",
     "text": [
      "Successfully added step with key: 5384c54d3bd68715812bd9480e8adb85\n"
     ]
    }
   ],
   "source": [
    "pypeline.target_extractor = extractor\n",
    "pypeline.target_loader = loader\n",
    "pypeline.add_steps([print_df_step])\n",
    "# pypeline.add_steps([print_df_step, cache_state, diverge_step1, print_df_step, loader, extractor2, reload_state, diverge_step2, print_df_step])"
   ]
  },
  {
   "cell_type": "code",
   "execution_count": 7,
   "metadata": {},
   "outputs": [
    {
     "name": "stdout",
     "output_type": "stream",
     "text": [
      "Successfully added step with key: 303c02b1d9dc0c0c316fca773bdcf9b6\n",
      "No valid checkpoint found, starting from the beginning...\n"
     ]
    },
    {
     "name": "stderr",
     "output_type": "stream",
     "text": [
      "Executing Pypeline: 100%|██████████| 4/4 [00:00<00:00, 266.50it/s]\n"
     ]
    },
    {
     "name": "stdout",
     "output_type": "stream",
     "text": [
      "Executing Step: CSVExtractor\n",
      "0\n",
      "2\n",
      "Executing Step: print_df_step\n",
      "This is a custom step1\n",
      "2\n",
      "1\n",
      "   0   1  2   3      4\n",
      "0  1  10  a  aa   True\n",
      "1  2  20  b  bb  False\n",
      "Executing Step: CSVLoader\n",
      "Executing Step: reset_cache\n",
      "No valid checkpoint found, starting from the beginning...\n"
     ]
    },
    {
     "name": "stderr",
     "output_type": "stream",
     "text": [
      "Executing Pypeline: 100%|██████████| 4/4 [00:00<00:00, 701.62it/s]\n"
     ]
    },
    {
     "name": "stdout",
     "output_type": "stream",
     "text": [
      "Executing Step: CSVExtractor\n",
      "2\n",
      "4\n",
      "Executing Step: print_df_step\n",
      "This is a custom step1\n",
      "2\n",
      "1\n",
      "   0   1  2   3      4\n",
      "0  3  30  c  cc   True\n",
      "1  4  40  d  dd  False\n",
      "Executing Step: CSVLoader\n",
      "Executing Step: reset_cache\n",
      "No valid checkpoint found, starting from the beginning...\n"
     ]
    },
    {
     "name": "stderr",
     "output_type": "stream",
     "text": [
      "Executing Pypeline: 100%|██████████| 4/4 [00:00<00:00, 537.94it/s]\n"
     ]
    },
    {
     "name": "stdout",
     "output_type": "stream",
     "text": [
      "Executing Step: CSVExtractor\n",
      "4\n",
      "6\n",
      "Executing Step: print_df_step\n",
      "This is a custom step1\n",
      "2\n",
      "1\n",
      "   0   1  2   3      4\n",
      "0  5  50  e  ee   True\n",
      "1  6  60  f  ff  False\n",
      "Executing Step: CSVLoader\n",
      "Executing Step: reset_cache\n",
      "No valid checkpoint found, starting from the beginning...\n"
     ]
    },
    {
     "name": "stderr",
     "output_type": "stream",
     "text": [
      "Executing Pypeline: 100%|██████████| 4/4 [00:00<00:00, 742.39it/s]"
     ]
    },
    {
     "name": "stdout",
     "output_type": "stream",
     "text": [
      "Executing Step: CSVExtractor\n",
      "6\n",
      "7\n",
      "Executing Step: print_df_step\n",
      "This is a custom step1\n",
      "2\n",
      "1\n",
      "   0   1  2   3     4\n",
      "0  7  70  g  gg  True\n",
      "Executing Step: CSVLoader\n",
      "Executing Step: reset_cache\n"
     ]
    },
    {
     "name": "stderr",
     "output_type": "stream",
     "text": [
      "\n"
     ]
    }
   ],
   "source": [
    "pypeline.execute(chunker=DirectChunker)"
   ]
  }
 ],
 "metadata": {
  "kernelspec": {
   "display_name": ".venv",
   "language": "python",
   "name": "python3"
  },
  "language_info": {
   "codemirror_mode": {
    "name": "ipython",
    "version": 3
   },
   "file_extension": ".py",
   "mimetype": "text/x-python",
   "name": "python",
   "nbconvert_exporter": "python",
   "pygments_lexer": "ipython3",
   "version": "3.12.5"
  }
 },
 "nbformat": 4,
 "nbformat_minor": 2
}
