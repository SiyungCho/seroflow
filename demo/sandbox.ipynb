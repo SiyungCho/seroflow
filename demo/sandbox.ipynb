{
 "cells": [
  {
   "cell_type": "code",
   "execution_count": 1,
   "metadata": {},
   "outputs": [],
   "source": [
    "import sys\n",
    "\n",
    "mac_path = \"/Users/frankcho/Desktop/seroflow/\"\n",
    "linux_path = \"/home/siyung/Desktop/seroflow/\"\n",
    "sys.path.append(mac_path + 'src/')\n",
    "\n",
    "from seroflow.seroflow import Pipeline\n",
    "from seroflow.step import Step\n",
    "\n",
    "from seroflow.extract import CSVExtractor\n",
    "from seroflow.extract import ExcelExtractor\n",
    "from seroflow.extract import MultiCSVExtractor\n",
    "from seroflow.extract import MultiExcelExtractor\n",
    "\n",
    "from seroflow.load import CSVLoader\n",
    "from seroflow.load import ExcelLoader\n",
    "from seroflow.load import MultiCSVLoader\n",
    "from seroflow.load import MultiExcelLoader\n",
    "\n",
    "from seroflow.chunker import DirectChunker\n",
    "from seroflow.chunker import DistributedChunker\n",
    "\n",
    "from seroflow.transform import UpdateVariable\n",
    "from seroflow.transform import CreateVariable\n",
    "\n",
    "from seroflow.transform import DisplayInfo\n",
    "from seroflow.transform import DisplayColumns\n",
    "\n",
    "from seroflow.engine import SQLAlchemyEngine"
   ]
  },
  {
   "cell_type": "code",
   "execution_count": 2,
   "metadata": {},
   "outputs": [],
   "source": [
    "from seroflow.transform import IncrementVariable\n",
    "from seroflow.transform import DecrementVariable\n",
    "from seroflow.transform import MultiplyVariable\n",
    "from seroflow.transform import DivideVariable\n",
    "from seroflow.transform import CopyVariable\n",
    "\n",
    "from seroflow.transform import GetColSum\n",
    "from seroflow.transform import TransposeDataFrame"
   ]
  },
  {
   "cell_type": "code",
   "execution_count": 3,
   "metadata": {},
   "outputs": [],
   "source": [
    "pipeline = Pipeline(mode=\"PROD\")"
   ]
  },
  {
   "cell_type": "code",
   "execution_count": 4,
   "metadata": {},
   "outputs": [],
   "source": [
    "@Step()\n",
    "def print_df_step(context, a=1, b=1):\n",
    "    print(\"This is a custom step1\")\n",
    "    print(context.get_dataframe('tmp'))\n",
    "    return a, b\n",
    "\n",
    "@Step()\n",
    "def print_df_step2(context):\n",
    "    print(\"This is a custom step1\")\n",
    "    print(context.get_dataframe('tmpBook'))\n"
   ]
  },
  {
   "cell_type": "code",
   "execution_count": 5,
   "metadata": {},
   "outputs": [],
   "source": [
    "# csv_extractor = CSVExtractor(source= mac_path+'demo/tempdata/tmp.csv', index_col=False, header=None)\n",
    "# multi_csv_extractor = MultiCSVExtractor(source='/Users/frankcho/Desktop/seroflow/demo/tempdata/', chunk_size=3, index_col=False, header=None)\n",
    "\n",
    "excel_extractor = ExcelExtractor(source='/Users/frankcho/Desktop/seroflow/demo/tempdata/tmpBook.xlsx', chunk_size=3, index_col=False, header=None)\n",
    "# multi_excel_extractor = MultiExcelExtractor(source='/Users/frankcho/Desktop/seroflow/demo/tempdata/', chunk_size=1, index_col=False, header=None)\n",
    "\n",
    "csv_loader = CSVLoader(target= mac_path+'demo/tempdata/export/', dataframe='tmpBook', index=False, header=False)\n",
    "# multi_csv_loader = MultiCSVLoader(target='/Users/frankcho/Desktop/seroflow/demo/tempdata/export/', dataframes=['tmp', 'othertmp'], index=False, header=False)\n",
    "\n",
    "# excel_loader = ExcelLoader(target='/Users/frankcho/Desktop/seroflow/demo/tempdata/export/', dataframe='tmp', index=False, header=False)\n",
    "# multi_excel_loader = MultiExcelLoader(target='/Users/frankcho/Desktop/seroflow/demo/tempdata/export/', index=False, header=False)"
   ]
  },
  {
   "cell_type": "code",
   "execution_count": 6,
   "metadata": {},
   "outputs": [],
   "source": [
    "var_create = CreateVariable(variable='test_var', value=50)\n",
    "inc_var = IncrementVariable(variable='test_var', increment_by=\"dafaefga\", on_error='ignore')\n",
    "col_sum = GetColSum(column=1, dataframe='tmp', variable='column_sum')\n",
    "transpose = TransposeDataFrame(dataframe='tmp')"
   ]
  },
  {
   "cell_type": "code",
   "execution_count": 7,
   "metadata": {},
   "outputs": [],
   "source": [
    "display_columns = DisplayColumns(dataframes='tmp')\n",
    "display_info = DisplayInfo(dataframes='tmp')"
   ]
  },
  {
   "cell_type": "code",
   "execution_count": 8,
   "metadata": {},
   "outputs": [],
   "source": [
    "pipeline.target_extractor = excel_extractor\n",
    "pipeline.target_loader = csv_loader\n",
    "# pipeline.add_steps([print_df_step])\n",
    "# pipeline.add_steps([var_create, display_columns, inc_var, col_sum, transpose, print_df_step])"
   ]
  },
  {
   "cell_type": "code",
   "execution_count": 9,
   "metadata": {},
   "outputs": [
    {
     "name": "stdout",
     "output_type": "stream",
     "text": [
      "Beginning ETL Execution at time: 2025-03-27 13:58:49 ...\n"
     ]
    },
    {
     "data": {
      "application/vnd.jupyter.widget-view+json": {
       "model_id": "35f133520e034c9d9a7239fc21777718",
       "version_major": 2,
       "version_minor": 0
      },
      "text/plain": [
       "Executing Pipeline:   0%|          | 0/2 [00:00<?, ?it/s]"
      ]
     },
     "metadata": {},
     "output_type": "display_data"
    },
    {
     "name": "stdout",
     "output_type": "stream",
     "text": [
      "Executing Step: ExcelExtractor \n",
      "Executing Step: CSVLoader \n",
      "Beginning ETL Execution at time: 2025-03-27 13:58:49 ...\n"
     ]
    },
    {
     "data": {
      "application/vnd.jupyter.widget-view+json": {
       "model_id": "cfbf65f8f3e844c2a8aed533ad258f79",
       "version_major": 2,
       "version_minor": 0
      },
      "text/plain": [
       "Executing Pipeline:   0%|          | 0/2 [00:00<?, ?it/s]"
      ]
     },
     "metadata": {},
     "output_type": "display_data"
    },
    {
     "name": "stdout",
     "output_type": "stream",
     "text": [
      "Executing Step: ExcelExtractor \n",
      "Executing Step: CSVLoader \n"
     ]
    }
   ],
   "source": [
    "pipeline.execute(chunker=DistributedChunker)"
   ]
  },
  {
   "cell_type": "code",
   "execution_count": 10,
   "metadata": {},
   "outputs": [
    {
     "name": "stdout",
     "output_type": "stream",
     "text": [
      "----Seroflow Pipeline----\n",
      "Parameters Index: {}\n",
      "Step Index: OrderedDict({'53697d05782c6122d657aee6a79a242d': <seroflow.extract.excel_extractor.ExcelExtractor object at 0x10fa107d0>, 'a9d2d015f54ec6ed470f2e80d92f220a': <seroflow.load.csv_loader.CSVLoader object at 0x10f9a7f80>})\n",
      "Step Name Index: OrderedDict({'53697d05782c6122d657aee6a79a242d': 'ExcelExtractor', 'a9d2d015f54ec6ed470f2e80d92f220a': 'CSVLoader'})\n",
      "Dataframe Index: {'a9d2d015f54ec6ed470f2e80d92f220a': ['tmpBook']}\n",
      "-----------------------\n"
     ]
    }
   ],
   "source": [
    "print(pipeline)"
   ]
  }
 ],
 "metadata": {
  "kernelspec": {
   "display_name": ".venv",
   "language": "python",
   "name": "python3"
  },
  "language_info": {
   "codemirror_mode": {
    "name": "ipython",
    "version": 3
   },
   "file_extension": ".py",
   "mimetype": "text/x-python",
   "name": "python",
   "nbconvert_exporter": "python",
   "pygments_lexer": "ipython3",
   "version": "3.12.5"
  }
 },
 "nbformat": 4,
 "nbformat_minor": 2
}
