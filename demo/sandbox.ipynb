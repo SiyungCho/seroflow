{
 "cells": [
  {
   "cell_type": "code",
   "execution_count": 1,
   "metadata": {},
   "outputs": [],
   "source": [
    "import sys\n",
    "\n",
    "mac_path = \"/Users/frankcho/Desktop/pypeline/\"\n",
    "linux_path = \"/home/siyung/Desktop/pypeline/\"\n",
    "sys.path.append(mac_path + 'src/')\n",
    "\n",
    "from pypeline.pypeline import Pypeline\n",
    "from pypeline.step import Step\n",
    "\n",
    "from pypeline.extract import CSVExtractor\n",
    "from pypeline.extract import ExcelExtractor\n",
    "from pypeline.extract import MultiCSVExtractor\n",
    "from pypeline.extract import MultiExcelExtractor\n",
    "\n",
    "from pypeline.load import CSVLoader\n",
    "from pypeline.load import ExcelLoader\n",
    "from pypeline.load import MultiCSVLoader\n",
    "from pypeline.load import MultiExcelLoader\n",
    "\n",
    "from pypeline.chunker import DirectChunker\n",
    "from pypeline.chunker import RecursiveChunker\n",
    "\n",
    "from pypeline.transform import UpdateVariable\n",
    "from pypeline.transform import CreateVariable\n",
    "\n",
    "# from pypeline.engine import SQLAlchemyEngine\n",
    "# from pypeline.engine import PyodbcEngine"
   ]
  },
  {
   "cell_type": "code",
   "execution_count": 2,
   "metadata": {},
   "outputs": [],
   "source": [
    "from pypeline.transform import IncrementVariable\n",
    "from pypeline.transform import DecrementVariable\n",
    "from pypeline.transform import MultiplyVariable\n",
    "from pypeline.transform import DivideVariable\n",
    "from pypeline.transform import CopyVariable\n",
    "\n",
    "from pypeline.transform import GetColSum\n",
    "from pypeline.transform import TransposeDataFrame"
   ]
  },
  {
   "cell_type": "code",
   "execution_count": 3,
   "metadata": {},
   "outputs": [],
   "source": [
    "pypeline = Pypeline(mode=\"PROD\")"
   ]
  },
  {
   "cell_type": "code",
   "execution_count": 4,
   "metadata": {},
   "outputs": [],
   "source": [
    "@Step()\n",
    "def print_df_step(context, a=1, b=1):\n",
    "    print(\"This is a custom step1\")\n",
    "    print(context.get_dataframe('tmp'))\n",
    "    return a, b\n",
    "\n",
    "@Step()\n",
    "def print_df_step2(context):\n",
    "    print(\"This is a custom step1\")\n",
    "    print(context.get_dataframe('tmpBook'))\n"
   ]
  },
  {
   "cell_type": "code",
   "execution_count": 5,
   "metadata": {},
   "outputs": [],
   "source": [
    "csv_extractor = CSVExtractor(source= mac_path+'demo/tempdata/tmp.csv', index_col=False, header=None)\n",
    "# multi_csv_extractor = MultiCSVExtractor(source='/Users/frankcho/Desktop/pypeline/demo/tempdata/', chunk_size=1, index_col=False, header=None)\n",
    "\n",
    "# excel_extractor = ExcelExtractor(source='/Users/frankcho/Desktop/pypeline/demo/tempdata/tmpBook.xlsx', chunk_size=4, index_col=False, header=None)\n",
    "# multi_excel_extractor = MultiExcelExtractor(source='/Users/frankcho/Desktop/pypeline/demo/tempdata/', chunk_size=1, index_col=False, header=None)\n",
    "\n",
    "csv_loader = CSVLoader(target= mac_path+'demo/tempdata/export/', dataframe='tmp', index=False, header=False)\n",
    "# multi_csv_loader = MultiCSVLoader(target='/Users/frankcho/Desktop/pypeline/demo/tempdata/export/', index=False, header=False)\n",
    "\n",
    "# excel_loader = ExcelLoader(target='/Users/frankcho/Desktop/pypeline/demo/tempdata/export/', dataframe='tmp', index=False, header=False)\n",
    "# multi_excel_loader = MultiExcelLoader(target='/Users/frankcho/Desktop/pypeline/demo/tempdata/export/', index=False, header=False)"
   ]
  },
  {
   "cell_type": "code",
   "execution_count": null,
   "metadata": {},
   "outputs": [],
   "source": [
    "var_create = CreateVariable(variable='test_var', value=50)\n",
    "inc_var = IncrementVariable(variable='test_var', increment_by=\"dafaefga\", on_error='ignore')\n",
    "col_sum = GetColSum(column=1, dataframe='tmp', variable='column_sum')\n",
    "transpose = TransposeDataFrame(dataframe='tmp')"
   ]
  },
  {
   "cell_type": "code",
   "execution_count": 7,
   "metadata": {},
   "outputs": [],
   "source": [
    "pypeline.target_extractor = csv_extractor\n",
    "pypeline.target_loader = csv_loader\n",
    "# pypeline.add_steps([print_df_step])\n",
    "pypeline.add_steps([var_create, inc_var, col_sum, transpose, print_df_step])"
   ]
  },
  {
   "cell_type": "code",
   "execution_count": 8,
   "metadata": {},
   "outputs": [
    {
     "name": "stdout",
     "output_type": "stream",
     "text": [
      "Beginning ETL Execution at time: 1742161581.4751842 ...\n"
     ]
    },
    {
     "name": "stderr",
     "output_type": "stream",
     "text": [
      "Executing Pypeline: 100%|██████████| 7/7 [00:00<00:00, 109.04it/s]"
     ]
    },
    {
     "name": "stdout",
     "output_type": "stream",
     "text": [
      "Executing Step: CSVExtractor\n",
      "Step: CSVExtractor completed...\n",
      "Executing Step: CreateVariable\n",
      "Step: CreateVariable completed...\n",
      "Executing Step: IncrementVariable\n",
      "Step: IncrementVariable completed...\n",
      "Executing Step: GetColSum\n",
      "Step: GetColSum completed...\n",
      "Executing Step: TransposeDataFrame\n",
      "Step: TransposeDataFrame completed...\n",
      "Executing Step: print_df_step\n",
      "This is a custom step1\n",
      "      0      1     2      3     4      5     6\n",
      "0     1      2     3      4     5      6     7\n",
      "1    10     20    30     40    50     60    70\n",
      "2     a      b     c      d     e      f     g\n",
      "3    aa     bb    cc     dd    ee     ff    gg\n",
      "4  True  False  True  False  True  False  True\n",
      "Step: print_df_step completed...\n",
      "Executing Step: CSVLoader\n",
      "Step: CSVLoader completed...\n",
      "ETL Execution Finished at time: 1742161581.550386 ...\n",
      "Total Execution Time: 1742161581.550386 seconds\n"
     ]
    },
    {
     "name": "stderr",
     "output_type": "stream",
     "text": [
      "\n"
     ]
    }
   ],
   "source": [
    "pypeline.execute()"
   ]
  },
  {
   "cell_type": "code",
   "execution_count": 9,
   "metadata": {},
   "outputs": [
    {
     "name": "stdout",
     "output_type": "stream",
     "text": [
      "----Pypeline Object----\n",
      "Parameters Index:\n",
      "{'test_var': 60, 'a': 1, 'b': 1, 'column_sum': np.int64(280)}\n",
      "Step Index:\n",
      "OrderedDict({'fc0de5317ae15ad50e902796a1016724': <pypeline.extract.csv_extractor.CSVExtractor object at 0x10c1a6f00>, '32d19eb47ab401990ab22f7a7131e175': <pypeline.transform.variable.CreateVariable object at 0x10cd02990>, '13dc46e0dd043397767ffdc997a4743b': <pypeline.transform.variable.IncrementVariable object at 0x105b2a030>, 'b06e120d9cdaf4b1d7bf9bb14362d541': <pypeline.transform.aggregation.GetColSum object at 0x10cca1d60>, 'bc688c77c2ca39c40898b98f63583856': <pypeline.transform.dataframe.TransposeDataFrame object at 0x10a7f05f0>, '2fd8f7e7e62cd92f53980b02d5ad1885': <pypeline.step.step.Step object at 0x10c565be0>, 'eaf1a0baf28692a69cbc149f0099f7c6': <pypeline.load.csv_loader.CSVLoader object at 0x10a3a76b0>})\n",
      "Step Name Index:\n",
      "OrderedDict({'fc0de5317ae15ad50e902796a1016724': 'CSVExtractor', '32d19eb47ab401990ab22f7a7131e175': 'CreateVariable', '13dc46e0dd043397767ffdc997a4743b': 'IncrementVariable', 'b06e120d9cdaf4b1d7bf9bb14362d541': 'GetColSum', 'bc688c77c2ca39c40898b98f63583856': 'TransposeDataFrame', '2fd8f7e7e62cd92f53980b02d5ad1885': 'print_df_step', 'eaf1a0baf28692a69cbc149f0099f7c6': 'CSVLoader'})\n",
      "Dataframe Index:\n",
      "{'32d19eb47ab401990ab22f7a7131e175': [None], '13dc46e0dd043397767ffdc997a4743b': [None], 'b06e120d9cdaf4b1d7bf9bb14362d541': ['tmp'], 'bc688c77c2ca39c40898b98f63583856': ['tmp'], 'eaf1a0baf28692a69cbc149f0099f7c6': ['tmp']}\n",
      "-----------------------\n"
     ]
    }
   ],
   "source": [
    "print(pypeline)"
   ]
  }
 ],
 "metadata": {
  "kernelspec": {
   "display_name": ".venv",
   "language": "python",
   "name": "python3"
  },
  "language_info": {
   "codemirror_mode": {
    "name": "ipython",
    "version": 3
   },
   "file_extension": ".py",
   "mimetype": "text/x-python",
   "name": "python",
   "nbconvert_exporter": "python",
   "pygments_lexer": "ipython3",
   "version": "3.12.5"
  }
 },
 "nbformat": 4,
 "nbformat_minor": 2
}
