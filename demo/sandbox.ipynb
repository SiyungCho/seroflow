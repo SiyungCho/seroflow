{
 "cells": [
  {
   "cell_type": "code",
   "execution_count": 1,
   "metadata": {},
   "outputs": [],
   "source": [
    "import sys\n",
    "\n",
    "mac_path = \"/Users/frankcho/Desktop/pypeline/\"\n",
    "linux_path = \"/home/siyung/Desktop/pypeline/\"\n",
    "sys.path.append(mac_path + 'src/')\n",
    "\n",
    "from pypeline.pypeline import Pypeline\n",
    "from pypeline.step import Step\n",
    "\n",
    "from pypeline.extract import CSVExtractor\n",
    "from pypeline.extract import ExcelExtractor\n",
    "from pypeline.extract import MultiCSVExtractor\n",
    "from pypeline.extract import MultiExcelExtractor\n",
    "\n",
    "from pypeline.load import CSVLoader\n",
    "from pypeline.load import ExcelLoader\n",
    "from pypeline.load import MultiCSVLoader\n",
    "from pypeline.load import MultiExcelLoader\n",
    "\n",
    "from pypeline.chunker import DirectChunker\n",
    "from pypeline.chunker import RecursiveChunker\n",
    "\n",
    "from pypeline.transform import UpdateVariable\n",
    "from pypeline.transform import CreateVariable\n",
    "\n",
    "from pypeline.transform import DisplayInfo\n",
    "from pypeline.transform import DisplayColumns\n",
    "\n",
    "# from pypeline.engine import SQLAlchemyEngine\n",
    "# from pypeline.engine import PyodbcEngine"
   ]
  },
  {
   "cell_type": "code",
   "execution_count": 2,
   "metadata": {},
   "outputs": [],
   "source": [
    "from pypeline.transform import IncrementVariable\n",
    "from pypeline.transform import DecrementVariable\n",
    "from pypeline.transform import MultiplyVariable\n",
    "from pypeline.transform import DivideVariable\n",
    "from pypeline.transform import CopyVariable\n",
    "\n",
    "from pypeline.transform import GetColSum\n",
    "from pypeline.transform import TransposeDataFrame"
   ]
  },
  {
   "cell_type": "code",
   "execution_count": 3,
   "metadata": {},
   "outputs": [],
   "source": [
    "pypeline = Pypeline(mode=\"PROD\")"
   ]
  },
  {
   "cell_type": "code",
   "execution_count": 4,
   "metadata": {},
   "outputs": [],
   "source": [
    "@Step()\n",
    "def print_df_step(context, a=1, b=1):\n",
    "    print(\"This is a custom step1\")\n",
    "    print(context.get_dataframe('tmp'))\n",
    "    return a, b\n",
    "\n",
    "@Step()\n",
    "def print_df_step2(context):\n",
    "    print(\"This is a custom step1\")\n",
    "    print(context.get_dataframe('tmpBook'))\n"
   ]
  },
  {
   "cell_type": "code",
   "execution_count": null,
   "metadata": {},
   "outputs": [],
   "source": [
    "csv_extractor = CSVExtractor(source= mac_path+'demo/tempdata/tmp.csv', index_col=False, header=None)\n",
    "# multi_csv_extractor = MultiCSVExtractor(source='/Users/frankcho/Desktop/pypeline/demo/tempdata/', chunk_size=1, index_col=False, header=None)\n",
    "\n",
    "# excel_extractor = ExcelExtractor(source='/Users/frankcho/Desktop/pypeline/demo/tempdata/tmpBook.xlsx', chunk_size=4, index_col=False, header=None)\n",
    "# multi_excel_extractor = MultiExcelExtractor(source='/Users/frankcho/Desktop/pypeline/demo/tempdata/', chunk_size=1, index_col=False, header=None)\n",
    "\n",
    "csv_loader = CSVLoader(target= mac_path+'demo/tempdata/export/', dataframe='tmp', index=False, header=False)\n",
    "# multi_csv_loader = MultiCSVLoader(target='/Users/frankcho/Desktop/pypeline/demo/tempdata/export/', index=False, header=False)\n",
    "\n",
    "# excel_loader = ExcelLoader(target='/Users/frankcho/Desktop/pypeline/demo/tempdata/export/', dataframe='tmp', index=False, header=False)\n",
    "# multi_excel_loader = MultiExcelLoader(target='/Users/frankcho/Desktop/pypeline/demo/tempdata/export/', index=False, header=False)"
   ]
  },
  {
   "cell_type": "code",
   "execution_count": 6,
   "metadata": {},
   "outputs": [],
   "source": [
    "var_create = CreateVariable(variable='test_var', value=50)\n",
    "inc_var = IncrementVariable(variable='test_var', increment_by=\"dafaefga\", on_error='ignore')\n",
    "col_sum = GetColSum(column=1, dataframe='tmp', variable='column_sum')\n",
    "transpose = TransposeDataFrame(dataframe='tmp')"
   ]
  },
  {
   "cell_type": "code",
   "execution_count": 7,
   "metadata": {},
   "outputs": [],
   "source": [
    "display_columns = DisplayColumns(dataframes='tmp')\n",
    "display_info = DisplayInfo(dataframes='tmp')"
   ]
  },
  {
   "cell_type": "code",
   "execution_count": 8,
   "metadata": {},
   "outputs": [],
   "source": [
    "pypeline.target_extractor = csv_extractor\n",
    "pypeline.target_loader = csv_loader\n",
    "# pypeline.add_steps([print_df_step])\n",
    "# pypeline.add_steps([var_create, display_columns, inc_var, col_sum, transpose, print_df_step])"
   ]
  },
  {
   "cell_type": "code",
   "execution_count": 9,
   "metadata": {},
   "outputs": [
    {
     "name": "stderr",
     "output_type": "stream",
     "text": [
      "Executing Pypeline:   0%|          | 0/2 [00:00<?, ?it/s]"
     ]
    },
    {
     "name": "stdout",
     "output_type": "stream",
     "text": [
      "Executing Step: CSVExtractor \n",
      "{}\n",
      "CSVExtractor\n"
     ]
    },
    {
     "name": "stderr",
     "output_type": "stream",
     "text": [
      "\n"
     ]
    },
    {
     "ename": "Exception",
     "evalue": "Error executing pypeline...",
     "output_type": "error",
     "traceback": [
      "\u001b[31m---------------------------------------------------------------------------\u001b[39m",
      "\u001b[31mAttributeError\u001b[39m                            Traceback (most recent call last)",
      "\u001b[36mFile \u001b[39m\u001b[32m~/Desktop/pypeline/src/pypeline/wrappers/wrappers.py:86\u001b[39m, in \u001b[36mlog_error.<locals>.log_error_inner.<locals>.wrap\u001b[39m\u001b[34m(*args, **kwargs)\u001b[39m\n\u001b[32m     85\u001b[39m \u001b[38;5;28;01mtry\u001b[39;00m:\n\u001b[32m---> \u001b[39m\u001b[32m86\u001b[39m     \u001b[38;5;28;01mreturn\u001b[39;00m \u001b[43mfunc\u001b[49m\u001b[43m(\u001b[49m\u001b[43m*\u001b[49m\u001b[43margs\u001b[49m\u001b[43m,\u001b[49m\u001b[43m \u001b[49m\u001b[43m*\u001b[49m\u001b[43m*\u001b[49m\u001b[43mkwargs\u001b[49m\u001b[43m)\u001b[49m\n\u001b[32m     87\u001b[39m \u001b[38;5;28;01mexcept\u001b[39;00m \u001b[38;5;167;01mException\u001b[39;00m \u001b[38;5;28;01mas\u001b[39;00m e:\n",
      "\u001b[36mFile \u001b[39m\u001b[32m~/Desktop/pypeline/src/pypeline/pypeline.py:896\u001b[39m, in \u001b[36mPypeline.__parse_parameters\u001b[39m\u001b[34m(self, step_key)\u001b[39m\n\u001b[32m    895\u001b[39m \u001b[38;5;28;01mif\u001b[39;00m param == \u001b[33m\"\u001b[39m\u001b[33mchunk_coordinates\u001b[39m\u001b[33m\"\u001b[39m:\n\u001b[32m--> \u001b[39m\u001b[32m896\u001b[39m     param_value = \u001b[38;5;28;43mself\u001b[39;49m\u001b[43m.\u001b[49m\u001b[43mchunker\u001b[49m\u001b[43m.\u001b[49m\u001b[43mdequeue\u001b[49m()\n\u001b[32m    897\u001b[39m \u001b[38;5;28;01melse\u001b[39;00m:\n",
      "\u001b[31mAttributeError\u001b[39m: 'NoneType' object has no attribute 'dequeue'",
      "\nThe above exception was the direct cause of the following exception:\n",
      "\u001b[31mException\u001b[39m                                 Traceback (most recent call last)",
      "\u001b[36mFile \u001b[39m\u001b[32m~/Desktop/pypeline/src/pypeline/wrappers/wrappers.py:86\u001b[39m, in \u001b[36mlog_error.<locals>.log_error_inner.<locals>.wrap\u001b[39m\u001b[34m(*args, **kwargs)\u001b[39m\n\u001b[32m     85\u001b[39m \u001b[38;5;28;01mtry\u001b[39;00m:\n\u001b[32m---> \u001b[39m\u001b[32m86\u001b[39m     \u001b[38;5;28;01mreturn\u001b[39;00m \u001b[43mfunc\u001b[49m\u001b[43m(\u001b[49m\u001b[43m*\u001b[49m\u001b[43margs\u001b[49m\u001b[43m,\u001b[49m\u001b[43m \u001b[49m\u001b[43m*\u001b[49m\u001b[43m*\u001b[49m\u001b[43mkwargs\u001b[49m\u001b[43m)\u001b[49m\n\u001b[32m     87\u001b[39m \u001b[38;5;28;01mexcept\u001b[39;00m \u001b[38;5;167;01mException\u001b[39;00m \u001b[38;5;28;01mas\u001b[39;00m e:\n",
      "\u001b[36mFile \u001b[39m\u001b[32m~/Desktop/pypeline/src/pypeline/pypeline.py:1163\u001b[39m, in \u001b[36mPypeline.execute\u001b[39m\u001b[34m(self, chunker)\u001b[39m\n\u001b[32m   1162\u001b[39m \u001b[38;5;28mself\u001b[39m.__display_message(\u001b[33mf\u001b[39m\u001b[33m\"\u001b[39m\u001b[33mExecuting Step: \u001b[39m\u001b[38;5;132;01m{\u001b[39;00m\u001b[38;5;28mself\u001b[39m.step_name_index[step_key]\u001b[38;5;132;01m}\u001b[39;00m\u001b[33m \u001b[39m\u001b[33m\"\u001b[39m, \u001b[38;5;28;01mTrue\u001b[39;00m)\n\u001b[32m-> \u001b[39m\u001b[32m1163\u001b[39m \u001b[38;5;28;43mself\u001b[39;49m\u001b[43m.\u001b[49m\u001b[43m__perform_step\u001b[49m\u001b[43m(\u001b[49m\u001b[43mstep_key\u001b[49m\u001b[43m)\u001b[49m\n\u001b[32m   1164\u001b[39m \u001b[38;5;28mself\u001b[39m.__display_message(\u001b[33mf\u001b[39m\u001b[33m\"\u001b[39m\u001b[33mStep: \u001b[39m\u001b[38;5;132;01m{\u001b[39;00m\u001b[38;5;28mself\u001b[39m.step_name_index[step_key]\u001b[38;5;132;01m}\u001b[39;00m\u001b[33m completed...\u001b[39m\u001b[33m\"\u001b[39m)\n",
      "\u001b[36mFile \u001b[39m\u001b[32m~/Desktop/pypeline/src/pypeline/pypeline.py:1132\u001b[39m, in \u001b[36mPypeline.__perform_step\u001b[39m\u001b[34m(self, step_key)\u001b[39m\n\u001b[32m   1131\u001b[39m     \u001b[38;5;28;01mreturn\u001b[39;00m\n\u001b[32m-> \u001b[39m\u001b[32m1132\u001b[39m step_params = \u001b[38;5;28;43mself\u001b[39;49m\u001b[43m.\u001b[49m\u001b[43m__parse_parameters\u001b[49m\u001b[43m(\u001b[49m\u001b[43mstep_key\u001b[49m\u001b[43m)\u001b[49m\n\u001b[32m   1133\u001b[39m step_output = \u001b[38;5;28mself\u001b[39m.step_index[step_key](**step_params)\n",
      "\u001b[36mFile \u001b[39m\u001b[32m~/Desktop/pypeline/src/pypeline/wrappers/wrappers.py:97\u001b[39m, in \u001b[36mlog_error.<locals>.log_error_inner.<locals>.wrap\u001b[39m\u001b[34m(*args, **kwargs)\u001b[39m\n\u001b[32m     96\u001b[39m \u001b[38;5;28;01melse\u001b[39;00m:\n\u001b[32m---> \u001b[39m\u001b[32m97\u001b[39m     \u001b[38;5;28;01mraise\u001b[39;00m \u001b[38;5;167;01mException\u001b[39;00m(err_msg) \u001b[38;5;28;01mfrom\u001b[39;00m\u001b[38;5;250m \u001b[39m\u001b[34;01me\u001b[39;00m\n\u001b[32m     98\u001b[39m \u001b[38;5;28;01mreturn\u001b[39;00m \u001b[38;5;28;01mNone\u001b[39;00m\n",
      "\u001b[31mException\u001b[39m: Error Parsing Parameters, proper parameter value not found",
      "\nThe above exception was the direct cause of the following exception:\n",
      "\u001b[31mException\u001b[39m                                 Traceback (most recent call last)",
      "\u001b[36mCell\u001b[39m\u001b[36m \u001b[39m\u001b[32mIn[9]\u001b[39m\u001b[32m, line 1\u001b[39m\n\u001b[32m----> \u001b[39m\u001b[32m1\u001b[39m \u001b[43mpypeline\u001b[49m\u001b[43m.\u001b[49m\u001b[43mexecute\u001b[49m\u001b[43m(\u001b[49m\u001b[43m)\u001b[49m\n",
      "\u001b[36mFile \u001b[39m\u001b[32m~/Desktop/pypeline/src/pypeline/wrappers/wrappers.py:97\u001b[39m, in \u001b[36mlog_error.<locals>.log_error_inner.<locals>.wrap\u001b[39m\u001b[34m(*args, **kwargs)\u001b[39m\n\u001b[32m     95\u001b[39m         \u001b[38;5;28;01mraise\u001b[39;00m \u001b[38;5;167;01mException\u001b[39;00m(err_msg) \u001b[38;5;28;01mfrom\u001b[39;00m\u001b[38;5;250m \u001b[39m\u001b[34;01me\u001b[39;00m\n\u001b[32m     96\u001b[39m \u001b[38;5;28;01melse\u001b[39;00m:\n\u001b[32m---> \u001b[39m\u001b[32m97\u001b[39m     \u001b[38;5;28;01mraise\u001b[39;00m \u001b[38;5;167;01mException\u001b[39;00m(err_msg) \u001b[38;5;28;01mfrom\u001b[39;00m\u001b[38;5;250m \u001b[39m\u001b[34;01me\u001b[39;00m\n\u001b[32m     98\u001b[39m \u001b[38;5;28;01mreturn\u001b[39;00m \u001b[38;5;28;01mNone\u001b[39;00m\n",
      "\u001b[31mException\u001b[39m: Error executing pypeline..."
     ]
    }
   ],
   "source": [
    "pypeline.execute()"
   ]
  },
  {
   "cell_type": "code",
   "execution_count": null,
   "metadata": {},
   "outputs": [
    {
     "name": "stdout",
     "output_type": "stream",
     "text": [
      "----Pypeline Object----\n",
      "Parameters Index:\n",
      "{'test_var': None, 'a': 1, 'b': 1, 'column_sum': np.int64(280)}\n",
      "Step Index:\n",
      "OrderedDict({'a32a635c79cb82fa4c4702a4278e41b2': <pypeline.extract.csv_extractor.CSVExtractor object at 0x1100e3980>, '32d19eb47ab401990ab22f7a7131e175': <pypeline.transform.variable.CreateVariable object at 0x1100e3200>, 'd7f516ed5d16dfc55b71506ffceb2c61': <pypeline.transform.display.DisplayColumns object at 0x1101284a0>, '18505147b1b619725e4851a06553002e': <pypeline.transform.variable.IncrementVariable object at 0x1100bf560>, 'e091adfc75629d112c817c879dfafe06': <pypeline.transform.aggregation.GetColSum object at 0x10c0f9ee0>, '0931c7621dd12b95c1abf9aad24d2e2d': <pypeline.transform.dataframe.TransposeDataFrame object at 0x10f1513a0>, 'e946d725c12c37f1208abb10ea81a341': <pypeline.step.step.Step object at 0x10f132f30>, '6c7dc1b3a97477ce2600ab7cc563ed9c': <pypeline.load.csv_loader.CSVLoader object at 0x10c0fa840>})\n",
      "Step Name Index:\n",
      "OrderedDict({'a32a635c79cb82fa4c4702a4278e41b2': 'CSVExtractor', '32d19eb47ab401990ab22f7a7131e175': 'CreateVariable', 'd7f516ed5d16dfc55b71506ffceb2c61': 'DisplayColumns', '18505147b1b619725e4851a06553002e': 'IncrementVariable', 'e091adfc75629d112c817c879dfafe06': 'GetColSum', '0931c7621dd12b95c1abf9aad24d2e2d': 'TransposeDataFrame', 'e946d725c12c37f1208abb10ea81a341': 'print_df_step', '6c7dc1b3a97477ce2600ab7cc563ed9c': 'CSVLoader'})\n",
      "Dataframe Index:\n",
      "{'32d19eb47ab401990ab22f7a7131e175': [None], 'd7f516ed5d16dfc55b71506ffceb2c61': ['tmp'], '18505147b1b619725e4851a06553002e': [None], 'e091adfc75629d112c817c879dfafe06': ['tmp'], '0931c7621dd12b95c1abf9aad24d2e2d': ['tmp'], '6c7dc1b3a97477ce2600ab7cc563ed9c': ['tmp']}\n",
      "-----------------------\n"
     ]
    }
   ],
   "source": [
    "print(pypeline)"
   ]
  }
 ],
 "metadata": {
  "kernelspec": {
   "display_name": ".venv",
   "language": "python",
   "name": "python3"
  },
  "language_info": {
   "codemirror_mode": {
    "name": "ipython",
    "version": 3
   },
   "file_extension": ".py",
   "mimetype": "text/x-python",
   "name": "python",
   "nbconvert_exporter": "python",
   "pygments_lexer": "ipython3",
   "version": "3.12.5"
  }
 },
 "nbformat": 4,
 "nbformat_minor": 2
}
