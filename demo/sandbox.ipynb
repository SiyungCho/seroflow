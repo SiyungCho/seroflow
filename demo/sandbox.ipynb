{
 "cells": [
  {
   "cell_type": "code",
   "execution_count": 1,
   "metadata": {},
   "outputs": [],
   "source": [
    "import sys\n",
    "sys.path.append('/Users/frankcho/Desktop/pypeline/src/')\n",
    "# sys.path.append('/home/siyung/Desktop/pypeline/src/')\n",
    "\n",
    "from pypeline.pypeline import pypeline as pypeline\n",
    "from pypeline.Step import step as step\n",
    "\n",
    "from pypeline.Extract import csv_extractor as csv_extractor\n",
    "from pypeline.Extract import excel_extractor as excel_extractor\n",
    "from pypeline.Extract import sqlserver_extractor as sqlserver_extractor\n",
    "\n",
    "from pypeline.Load import csv_loader as csv_loader\n",
    "from pypeline.Load import excel_loader as excel_loader\n",
    "from pypeline.Load import sqlserver_loader as sqlserver_loader\n",
    "\n",
    "from pypeline.Engine import sqlalchemy_engine as sqlalchemy_engine\n",
    "from pypeline.Engine import pyodbc_engine as pyodbc_engine"
   ]
  },
  {
   "cell_type": "code",
   "execution_count": 2,
   "metadata": {},
   "outputs": [],
   "source": [
    "pypeline = pypeline()"
   ]
  },
  {
   "cell_type": "code",
   "execution_count": 3,
   "metadata": {},
   "outputs": [],
   "source": [
    "@step(params={'a': 2})\n",
    "def print_df_step(context, a, b=1):\n",
    "    print(\"This is a custom step1\")\n",
    "    print(a)\n",
    "    print(b)\n",
    "    print(context.get_dataframe('tmp'))\n",
    "    return a, b\n",
    "\n",
    "@step(params={'a': 2})\n",
    "def diverge_step1(context, a, b=1):\n",
    "    print(\"This is a diverging step1\")\n",
    "    df = context.get_dataframe('tmp')\n",
    "    df.iloc[:, 0] += 1\n",
    "    a=100\n",
    "    return a, b\n",
    "\n",
    "@step(params={'a': 2})\n",
    "def diverge_step2(context, a, b=1):\n",
    "    print(\"This is a diverging step2\")\n",
    "    df = context.get_dataframe('tmp')\n",
    "    df.iloc[:, 0] -= 1\n",
    "    b=1999\n",
    "    return a, b"
   ]
  },
  {
   "cell_type": "code",
   "execution_count": 4,
   "metadata": {},
   "outputs": [],
   "source": [
    "# extractor = csv_extractor(source='/home/siyung/Desktop/pypeline/demo/tempdata/', index_col=False)\n",
    "# xl_extractor = excel_extractor(source='/home/siyung/Desktop/pypeline/demo/tempdata/')\n",
    "# loader = csv_loader(target='/home/siyung/Desktop/pypeline/demo/tempdata/export/', index=False)"
   ]
  },
  {
   "cell_type": "code",
   "execution_count": 5,
   "metadata": {},
   "outputs": [],
   "source": [
    "extractor = csv_extractor(source='/Users/frankcho/Desktop/pypeline/demo/tempdata/', index_col=False)\n",
    "extractor2 = csv_extractor(source='/Users/frankcho/Desktop/pypeline/demo/tempdata/export', index_col=False)\n",
    "\n",
    "xl_extractor = excel_extractor(source='/Users/frankcho/Desktop/pypeline/demo/tempdata/')\n",
    "loader = csv_loader(target='/Users/frankcho/Desktop/pypeline/demo/tempdata/export/', index=False)\n",
    "loader2 = csv_loader(target='/Users/frankcho/Desktop/pypeline/demo/tempdata/export/secondexport', index=False)\n",
    "\n",
    "cache_state = pypeline.cache_state()\n",
    "reload_state = pypeline.reload_cached_state(cache_key=0)"
   ]
  },
  {
   "cell_type": "code",
   "execution_count": null,
   "metadata": {},
   "outputs": [
    {
     "name": "stdout",
     "output_type": "stream",
     "text": [
      "Successfully added step with key: 5384c54d3bd68715812bd9480e8adb85\n",
      "Successfully added step with key: f8a6fe6dc846b76bc0880b5ed5d67125\n",
      "Successfully added step with key: ab00358d4f21e3fdc6949972080c85ae\n",
      "Successfully added step with key: 192c7bbd3d57cc6f29cd0a5087704080\n",
      "Successfully added step with key: dfd2e23584c4219f2be63f4f9b137dbf\n",
      "Successfully added step with key: c80a3ce08e46b74d25102a567219a846\n",
      "Successfully added step with key: b35c1eb052fb80c50cbd244172fd56a7\n"
     ]
    }
   ],
   "source": [
    "pypeline.target_extractor = extractor\n",
    "pypeline.target_loader = loader2\n",
    "pypeline.add_steps([print_df_step, cache_state, diverge_step1, print_df_step, loader, extractor2, reload_state, diverge_step2, print_df_step])"
   ]
  },
  {
   "cell_type": "code",
   "execution_count": 7,
   "metadata": {},
   "outputs": [
    {
     "name": "stdout",
     "output_type": "stream",
     "text": [
      "Successfully added target extractor with key: cf9972d950b83bbfae87cb8a00732dcb\n",
      "Successfully added target loader with key: 7f532cb28077d0baaedcaefec4890505\n",
      "No valid checkpoint found, starting from the beginning...\n",
      "Executing Step: csv_extractor\n",
      "Executing Step: print_df_step\n",
      "This is a custom step1\n",
      "2\n",
      "1\n",
      "   1  10  a  aa   true\n",
      "0  2  20  b  bb  False\n",
      "1  3  30  c  cc   True\n",
      "2  4  40  d  dd  False\n",
      "3  5  50  e  ee   True\n",
      "4  6  60  f  ff  False\n",
      "5  7  70  g  gg   True\n",
      "Executing Step: diverge_step1\n",
      "This is a diverging step1\n",
      "Executing Step: print_df_step\n",
      "This is a custom step1\n",
      "2\n",
      "1\n",
      "   1  10  a  aa   true\n",
      "0  3  20  b  bb  False\n",
      "1  4  30  c  cc   True\n",
      "2  5  40  d  dd  False\n",
      "3  6  50  e  ee   True\n",
      "4  7  60  f  ff  False\n",
      "5  8  70  g  gg   True\n",
      "Executing Step: csv_loader\n",
      "Executing Step: csv_extractor\n",
      "Executing Step: diverge_step2\n",
      "This is a diverging step2\n",
      "Executing Step: print_df_step\n",
      "This is a custom step1\n",
      "2\n",
      "1999\n",
      "   1  10  a  aa   true\n",
      "0  2  20  b  bb  False\n",
      "1  3  30  c  cc   True\n",
      "2  4  40  d  dd  False\n",
      "3  5  50  e  ee   True\n",
      "4  6  60  f  ff  False\n",
      "5  7  70  g  gg   True\n",
      "Executing Step: csv_loader\n"
     ]
    }
   ],
   "source": [
    "pypeline.execute()"
   ]
  }
 ],
 "metadata": {
  "kernelspec": {
   "display_name": ".venv",
   "language": "python",
   "name": "python3"
  },
  "language_info": {
   "codemirror_mode": {
    "name": "ipython",
    "version": 3
   },
   "file_extension": ".py",
   "mimetype": "text/x-python",
   "name": "python",
   "nbconvert_exporter": "python",
   "pygments_lexer": "ipython3",
   "version": "3.12.3"
  }
 },
 "nbformat": 4,
 "nbformat_minor": 2
}
