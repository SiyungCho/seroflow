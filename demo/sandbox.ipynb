{
 "cells": [
  {
   "cell_type": "code",
   "execution_count": 1,
   "metadata": {},
   "outputs": [],
   "source": [
    "import sys\n",
    "sys.path.append('/Users/frankcho/Desktop/pypeline/src/')\n",
    "\n",
    "from pypeline.pypeline import pypeline as pypeline\n",
    "from pypeline.Step import step as step\n",
    "from pypeline.Extract import csv_extractor as csv_extractor\n",
    "from pypeline.Extract import excel_extractor as excel_extractor\n",
    "from pypeline.Load import csv_loader as csv_loader\n",
    "from pypeline.Cache import LFUCache as LFUCache"
   ]
  },
  {
   "cell_type": "code",
   "execution_count": null,
   "metadata": {},
   "outputs": [],
   "source": [
    "pypeline = pypeline()"
   ]
  },
  {
   "cell_type": "code",
   "execution_count": 2,
   "metadata": {},
   "outputs": [],
   "source": [
    "@step(params={'a': 2})\n",
    "def custom_step(context, a, b=1):\n",
    "    print(\"This is a custom step\")\n",
    "    print(a)\n",
    "    print(b)\n",
    "    print(context.get_dataframe('tmp'))\n",
    "    return a, b"
   ]
  },
  {
   "cell_type": "code",
   "execution_count": null,
   "metadata": {},
   "outputs": [],
   "source": [
    "extractor = csv_extractor(source='/Users/frankcho/Desktop/pypeline/demo/tempdata/', index_col=False)\n",
    "xl_extractor = excel_extractor(source='/Users/frankcho/Desktop/pypeline/demo/tempdata/')\n",
    "loader = csv_loader(target='/Users/frankcho/Desktop/pypeline/demo/tempdata/export/', index=False)"
   ]
  },
  {
   "cell_type": "code",
   "execution_count": null,
   "metadata": {},
   "outputs": [
    {
     "name": "stdout",
     "output_type": "stream",
     "text": [
      "Successfully added step with key: 52794431-ff5e-4841-b09c-65c3dbea4da2\n",
      "Successfully added step with key: c5b9f957-07d2-45d5-9e1d-90c9707ae864\n"
     ]
    }
   ],
   "source": [
    "pypeline.target_extractor = extractor\n",
    "pypeline.target_loader = loader\n",
    "pypeline.add_steps([custom_step, xl_extractor])"
   ]
  },
  {
   "cell_type": "code",
   "execution_count": 5,
   "metadata": {},
   "outputs": [
    {
     "name": "stdout",
     "output_type": "stream",
     "text": [
      "Executing Step: csv_extractor\n",
      "Executing Step: custom_step\n",
      "This is a custom step\n",
      "2\n",
      "1\n",
      "   1  10  a  aa   true\n",
      "0  2  20  b  bb  False\n",
      "1  3  30  c  cc   True\n",
      "2  4  40  d  dd  False\n",
      "3  5  50  e  ee   True\n",
      "4  6  60  f  ff  False\n",
      "5  7  70  g  gg   True\n",
      "Executing Step: excel_extractor\n",
      "Executing Step: csv_loader\n"
     ]
    }
   ],
   "source": [
    "pypeline.execute()"
   ]
  },
  {
   "cell_type": "code",
   "execution_count": 6,
   "metadata": {},
   "outputs": [
    {
     "name": "stdout",
     "output_type": "stream",
     "text": [
      "{'a': 2, 'b': 1}\n",
      "OrderedDict({UUID('07742824-67b1-4b82-98e6-ce41c2d762a1'): <pypeline.Extract.csv_extractor.csv_extractor object at 0x10e9abc50>, UUID('52794431-ff5e-4841-b09c-65c3dbea4da2'): <pypeline.Step.step.step object at 0x10c9d2de0>, UUID('c5b9f957-07d2-45d5-9e1d-90c9707ae864'): <pypeline.Extract.excel_extractor.excel_extractor object at 0x10ea0ddc0>, UUID('94af8cdd-07b3-443c-a2df-fb8b5f8054a5'): <pypeline.Load.csv_loader.csv_loader object at 0x10c1bc2f0>})\n",
      "OrderedDict({UUID('07742824-67b1-4b82-98e6-ce41c2d762a1'): 'csv_extractor', UUID('52794431-ff5e-4841-b09c-65c3dbea4da2'): 'custom_step', UUID('c5b9f957-07d2-45d5-9e1d-90c9707ae864'): 'excel_extractor', UUID('94af8cdd-07b3-443c-a2df-fb8b5f8054a5'): 'csv_loader'})\n",
      "{UUID('94af8cdd-07b3-443c-a2df-fb8b5f8054a5'): ['tmpBook']}\n",
      "{}\n",
      "pypeline object\n"
     ]
    }
   ],
   "source": [
    "print(pypeline)"
   ]
  }
 ],
 "metadata": {
  "kernelspec": {
   "display_name": ".venv",
   "language": "python",
   "name": "python3"
  },
  "language_info": {
   "codemirror_mode": {
    "name": "ipython",
    "version": 3
   },
   "file_extension": ".py",
   "mimetype": "text/x-python",
   "name": "python",
   "nbconvert_exporter": "python",
   "pygments_lexer": "ipython3",
   "version": "3.12.5"
  }
 },
 "nbformat": 4,
 "nbformat_minor": 2
}
