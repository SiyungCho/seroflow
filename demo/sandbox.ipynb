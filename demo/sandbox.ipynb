{
 "cells": [
  {
   "cell_type": "code",
   "execution_count": 1,
   "metadata": {},
   "outputs": [],
   "source": [
    "import sys\n",
    "\n",
    "mac_path = \"/Users/frankcho/Desktop/pypeline/\"\n",
    "linux_path = \"/home/siyung/Desktop/pypeline/\"\n",
    "sys.path.append(mac_path + 'src/')\n",
    "\n",
    "from pypeline.pypeline import Pypeline\n",
    "from pypeline.step import Step\n",
    "\n",
    "from pypeline.extract import CSVExtractor\n",
    "from pypeline.extract import ExcelExtractor\n",
    "from pypeline.extract import MultiCSVExtractor\n",
    "from pypeline.extract import MultiExcelExtractor\n",
    "\n",
    "from pypeline.load import CSVLoader\n",
    "from pypeline.load import ExcelLoader\n",
    "from pypeline.load import MultiCSVLoader\n",
    "from pypeline.load import MultiExcelLoader\n",
    "\n",
    "from pypeline.chunker import DirectChunker\n",
    "from pypeline.chunker import RecursiveChunker\n",
    "\n",
    "from pypeline.transform import UpdateVariable\n",
    "from pypeline.transform import CreateVariable\n",
    "\n",
    "from pypeline.transform import DisplayInfo\n",
    "from pypeline.transform import DisplayColumns\n",
    "\n",
    "# from pypeline.engine import SQLAlchemyEngine\n",
    "# from pypeline.engine import PyodbcEngine"
   ]
  },
  {
   "cell_type": "code",
   "execution_count": 2,
   "metadata": {},
   "outputs": [],
   "source": [
    "from pypeline.transform import IncrementVariable\n",
    "from pypeline.transform import DecrementVariable\n",
    "from pypeline.transform import MultiplyVariable\n",
    "from pypeline.transform import DivideVariable\n",
    "from pypeline.transform import CopyVariable\n",
    "\n",
    "from pypeline.transform import GetColSum\n",
    "from pypeline.transform import TransposeDataFrame"
   ]
  },
  {
   "cell_type": "code",
   "execution_count": 3,
   "metadata": {},
   "outputs": [],
   "source": [
    "pypeline = Pypeline(mode=\"PROD\")"
   ]
  },
  {
   "cell_type": "code",
   "execution_count": 4,
   "metadata": {},
   "outputs": [],
   "source": [
    "@Step()\n",
    "def print_df_step(context, a=1, b=1):\n",
    "    print(\"This is a custom step1\")\n",
    "    print(context.get_dataframe('tmp'))\n",
    "    return a, b\n",
    "\n",
    "@Step()\n",
    "def print_df_step2(context):\n",
    "    print(\"This is a custom step1\")\n",
    "    print(context.get_dataframe('tmpBook'))\n"
   ]
  },
  {
   "cell_type": "code",
   "execution_count": 5,
   "metadata": {},
   "outputs": [],
   "source": [
    "csv_extractor = CSVExtractor(source= mac_path+'demo/tempdata/tmp.csv', index_col=False, header=None)\n",
    "# multi_csv_extractor = MultiCSVExtractor(source='/Users/frankcho/Desktop/pypeline/demo/tempdata/', chunk_size=1, index_col=False, header=None)\n",
    "\n",
    "# excel_extractor = ExcelExtractor(source='/Users/frankcho/Desktop/pypeline/demo/tempdata/tmpBook.xlsx', chunk_size=4, index_col=False, header=None)\n",
    "# multi_excel_extractor = MultiExcelExtractor(source='/Users/frankcho/Desktop/pypeline/demo/tempdata/', chunk_size=1, index_col=False, header=None)\n",
    "\n",
    "csv_loader = CSVLoader(target= mac_path+'demo/tempdata/export/', dataframe='tmp', index=False, header=False)\n",
    "# multi_csv_loader = MultiCSVLoader(target='/Users/frankcho/Desktop/pypeline/demo/tempdata/export/', index=False, header=False)\n",
    "\n",
    "# excel_loader = ExcelLoader(target='/Users/frankcho/Desktop/pypeline/demo/tempdata/export/', dataframe='tmp', index=False, header=False)\n",
    "# multi_excel_loader = MultiExcelLoader(target='/Users/frankcho/Desktop/pypeline/demo/tempdata/export/', index=False, header=False)"
   ]
  },
  {
   "cell_type": "code",
   "execution_count": 6,
   "metadata": {},
   "outputs": [],
   "source": [
    "var_create = CreateVariable(variable='test_var', value=50)\n",
    "inc_var = IncrementVariable(variable='test_var', increment_by=\"dafaefga\", on_error='ignore')\n",
    "col_sum = GetColSum(column=1, dataframe='tmp', variable='column_sum')\n",
    "transpose = TransposeDataFrame(dataframe='tmp')"
   ]
  },
  {
   "cell_type": "code",
   "execution_count": 7,
   "metadata": {},
   "outputs": [],
   "source": [
    "display_columns = DisplayColumns(dataframes='tmp')\n",
    "display_info = DisplayInfo(dataframes='tmp')"
   ]
  },
  {
   "cell_type": "code",
   "execution_count": 8,
   "metadata": {},
   "outputs": [],
   "source": [
    "pypeline.target_extractor = csv_extractor\n",
    "pypeline.target_loader = csv_loader\n",
    "# pypeline.add_steps([print_df_step])\n",
    "pypeline.add_steps([var_create, display_columns, inc_var, col_sum, transpose, print_df_step])"
   ]
  },
  {
   "cell_type": "code",
   "execution_count": 9,
   "metadata": {},
   "outputs": [
    {
     "name": "stderr",
     "output_type": "stream",
     "text": [
      "Executing Pypeline: 100%|██████████| 8/8 [00:00<00:00, 970.40it/s]"
     ]
    },
    {
     "name": "stdout",
     "output_type": "stream",
     "text": [
      "Executing Step: CSVExtractor\n",
      "Executing Step: CreateVariable\n",
      "Executing Step: DisplayColumns\n",
      "DataFrame 'tmp' Columns:\n",
      "[0, 1, 2, 3, 4]\n",
      "--------------------------------------------------\n",
      "Executing Step: IncrementVariable\n",
      "Error in IncrementVariable was ignored: unsupported operand type(s) for +: 'int' and 'str'\n",
      "Executing Step: GetColSum\n",
      "Executing Step: TransposeDataFrame\n",
      "Executing Step: print_df_step\n",
      "This is a custom step1\n",
      "      0      1     2      3     4      5     6\n",
      "0     1      2     3      4     5      6     7\n",
      "1    10     20    30     40    50     60    70\n",
      "2     a      b     c      d     e      f     g\n",
      "3    aa     bb    cc     dd    ee     ff    gg\n",
      "4  True  False  True  False  True  False  True\n",
      "Executing Step: CSVLoader\n"
     ]
    },
    {
     "name": "stderr",
     "output_type": "stream",
     "text": [
      "\n"
     ]
    }
   ],
   "source": [
    "pypeline.execute()"
   ]
  },
  {
   "cell_type": "code",
   "execution_count": 10,
   "metadata": {},
   "outputs": [
    {
     "name": "stdout",
     "output_type": "stream",
     "text": [
      "----Pypeline Object----\n",
      "Parameters Index:\n",
      "{'test_var': None, 'a': 1, 'b': 1, 'column_sum': np.int64(280)}\n",
      "Step Index:\n",
      "OrderedDict({'a32a635c79cb82fa4c4702a4278e41b2': <pypeline.extract.csv_extractor.CSVExtractor object at 0x1100e3980>, '32d19eb47ab401990ab22f7a7131e175': <pypeline.transform.variable.CreateVariable object at 0x1100e3200>, 'd7f516ed5d16dfc55b71506ffceb2c61': <pypeline.transform.display.DisplayColumns object at 0x1101284a0>, '18505147b1b619725e4851a06553002e': <pypeline.transform.variable.IncrementVariable object at 0x1100bf560>, 'e091adfc75629d112c817c879dfafe06': <pypeline.transform.aggregation.GetColSum object at 0x10c0f9ee0>, '0931c7621dd12b95c1abf9aad24d2e2d': <pypeline.transform.dataframe.TransposeDataFrame object at 0x10f1513a0>, 'e946d725c12c37f1208abb10ea81a341': <pypeline.step.step.Step object at 0x10f132f30>, '6c7dc1b3a97477ce2600ab7cc563ed9c': <pypeline.load.csv_loader.CSVLoader object at 0x10c0fa840>})\n",
      "Step Name Index:\n",
      "OrderedDict({'a32a635c79cb82fa4c4702a4278e41b2': 'CSVExtractor', '32d19eb47ab401990ab22f7a7131e175': 'CreateVariable', 'd7f516ed5d16dfc55b71506ffceb2c61': 'DisplayColumns', '18505147b1b619725e4851a06553002e': 'IncrementVariable', 'e091adfc75629d112c817c879dfafe06': 'GetColSum', '0931c7621dd12b95c1abf9aad24d2e2d': 'TransposeDataFrame', 'e946d725c12c37f1208abb10ea81a341': 'print_df_step', '6c7dc1b3a97477ce2600ab7cc563ed9c': 'CSVLoader'})\n",
      "Dataframe Index:\n",
      "{'32d19eb47ab401990ab22f7a7131e175': [None], 'd7f516ed5d16dfc55b71506ffceb2c61': ['tmp'], '18505147b1b619725e4851a06553002e': [None], 'e091adfc75629d112c817c879dfafe06': ['tmp'], '0931c7621dd12b95c1abf9aad24d2e2d': ['tmp'], '6c7dc1b3a97477ce2600ab7cc563ed9c': ['tmp']}\n",
      "-----------------------\n"
     ]
    }
   ],
   "source": [
    "print(pypeline)"
   ]
  }
 ],
 "metadata": {
  "kernelspec": {
   "display_name": ".venv",
   "language": "python",
   "name": "python3"
  },
  "language_info": {
   "codemirror_mode": {
    "name": "ipython",
    "version": 3
   },
   "file_extension": ".py",
   "mimetype": "text/x-python",
   "name": "python",
   "nbconvert_exporter": "python",
   "pygments_lexer": "ipython3",
   "version": "3.12.5"
  }
 },
 "nbformat": 4,
 "nbformat_minor": 2
}
